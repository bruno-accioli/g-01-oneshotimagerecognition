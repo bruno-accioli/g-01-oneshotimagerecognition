{
 "cells": [
  {
   "cell_type": "markdown",
   "metadata": {},
   "source": [
    "## Importing libraries"
   ]
  },
  {
   "cell_type": "code",
   "execution_count": 1,
   "metadata": {},
   "outputs": [
    {
     "output_type": "error",
     "ename": "ModuleNotFoundError",
     "evalue": "No module named 'shared_libraries'",
     "traceback": [
      "\u001b[0;31m---------------------------------------------------------------------------\u001b[0m",
      "\u001b[0;31mModuleNotFoundError\u001b[0m                       Traceback (most recent call last)",
      "\u001b[0;32m<ipython-input-1-b90a69864722>\u001b[0m in \u001b[0;36m<module>\u001b[0;34m\u001b[0m\n\u001b[1;32m      6\u001b[0m \u001b[0;32mimport\u001b[0m \u001b[0mmatplotlib\u001b[0m\u001b[0;34m.\u001b[0m\u001b[0mpyplot\u001b[0m \u001b[0;32mas\u001b[0m \u001b[0mplt\u001b[0m\u001b[0;34m\u001b[0m\u001b[0;34m\u001b[0m\u001b[0m\n\u001b[1;32m      7\u001b[0m \u001b[0;34m\u001b[0m\u001b[0m\n\u001b[0;32m----> 8\u001b[0;31m \u001b[0;32mfrom\u001b[0m \u001b[0mshared_libraries\u001b[0m\u001b[0;34m.\u001b[0m\u001b[0mutils\u001b[0m \u001b[0;32mimport\u001b[0m \u001b[0;34m*\u001b[0m\u001b[0;34m\u001b[0m\u001b[0;34m\u001b[0m\u001b[0m\n\u001b[0m\u001b[1;32m      9\u001b[0m \u001b[0;32mfrom\u001b[0m \u001b[0mtqdm\u001b[0m \u001b[0;32mimport\u001b[0m \u001b[0mtrange\u001b[0m\u001b[0;34m\u001b[0m\u001b[0;34m\u001b[0m\u001b[0m\n\u001b[1;32m     10\u001b[0m \u001b[0;32mfrom\u001b[0m \u001b[0mPIL\u001b[0m \u001b[0;32mimport\u001b[0m \u001b[0mImage\u001b[0m\u001b[0;34m\u001b[0m\u001b[0;34m\u001b[0m\u001b[0m\n",
      "\u001b[0;31mModuleNotFoundError\u001b[0m: No module named 'shared_libraries'"
     ]
    }
   ],
   "source": [
    "import os\n",
    "import random\n",
    "import itertools\n",
    "import copy\n",
    "import numpy as np\n",
    "import matplotlib.pyplot as plt\n",
    "\n",
    "from shared_libraries.utils import *\n",
    "from tqdm import trange\n",
    "from PIL import Image\n",
    "from collections import Counter\n",
    "\n",
    "import torch\n",
    "from torch.utils.data.dataset import Dataset\n",
    "from torch.utils.data import DataLoader\n",
    "from torchvision import transforms\n",
    "\n",
    "\n",
    "\n",
    "def contrastive_loss_function(x0, x1, y, margin=1.0):\n",
    "    # euclidean distance\n",
    "    diff = x0 - x1\n",
    "    dist_sq = torch.sum(torch.pow(diff, 2), 1)\n",
    "    dist = torch.sqrt(dist_sq)\n",
    "    mdist = margin - dist\n",
    "    dist = torch.clamp(mdist, min=0.0)\n",
    "    loss = y * dist_sq + (1 - y) * torch.pow(dist, 2)\n",
    "    loss = torch.sum(loss) / 2.0 / x0.size()[0]\n",
    "    return loss"
   ]
  },
  {
   "cell_type": "markdown",
   "metadata": {},
   "source": [
    "# Loading and preparing data"
   ]
  },
  {
   "cell_type": "code",
   "execution_count": 6,
   "metadata": {},
   "outputs": [],
   "source": [
    "#data_dir = './data/processed/'\n",
    "back_dir = './data/background/'\n",
    "eval_dir = './data/evaluation/'\n",
    "write_dir = './data/changed/'\n",
    "\n",
    "if not os.path.exists(write_dir):\n",
    "    os.makedirs(write_dir)"
   ]
  },
  {
   "cell_type": "code",
   "execution_count": 5,
   "metadata": {},
   "outputs": [],
   "source": [
    "# ensuring reproducibility\n",
    "np.random.seed(0)\n",
    "random.seed(0)"
   ]
  },
  {
   "cell_type": "code",
   "execution_count": 7,
   "metadata": {},
   "outputs": [],
   "source": [
    "# params\n",
    "percentage_split = False\n",
    "augment = False"
   ]
  },
  {
   "cell_type": "code",
   "execution_count": 12,
   "metadata": {},
   "outputs": [
    {
     "name": "stdout",
     "output_type": "stream",
     "text": [
      "There are 40 alphabets.\n"
     ]
    }
   ],
   "source": [
    "background_alphabets = [os.path.join(back_dir, x) for x in next(os.walk(back_dir))[1]]\n",
    "background_alphabets.sort()\n",
    "\n",
    "# list of all drawers (1 to 20)\n",
    "background_drawers = list(np.arange(1, 21))\n",
    "\n",
    "print(\"There are {} alphabets.\".format(len(background_alphabets)))"
   ]
  },
  {
   "cell_type": "code",
   "execution_count": 13,
   "metadata": {},
   "outputs": [],
   "source": [
    "# from 40 alphabets, randomly select 30\n",
    "train_alphabets = list(np.random.choice(background_alphabets, size=30, replace=False))\n",
    "valid_alphabets = [x for x in background_alphabets if x not in train_alphabets]\n",
    "\n",
    "train_alphabets.sort()\n",
    "valid_alphabets.sort()"
   ]
  },
  {
   "cell_type": "code",
   "execution_count": 15,
   "metadata": {},
   "outputs": [],
   "source": [
    "train_write = os.path.join(write_dir, 'train')\n",
    "\n",
    "for alphabet in train_alphabets:\n",
    "    train_write_1 = train_write + '/' + alphabet.split('/')[-1] + '_' \n",
    "    for char in os.listdir(alphabet):\n",
    "        train_write_2 = train_write_1 + char\n",
    "        char_path = os.path.join(alphabet, char)\n",
    "        os.makedirs(train_write_2)\n",
    "        for drawer in os.listdir(char_path):\n",
    "            drawer_path = os.path.join(char_path, drawer)\n",
    "            shutil.copyfile(drawer_path, os.path.join(train_write_2, drawer))"
   ]
  },
  {
   "cell_type": "code",
   "execution_count": 16,
   "metadata": {},
   "outputs": [],
   "source": [
    "valid_write = os.path.join(write_dir, 'valid')\n",
    "\n",
    "for alphabet in valid_alphabets:\n",
    "    valid_write_1 = valid_write + '/' + alphabet.split('/')[-1] + '_' \n",
    "    for char in os.listdir(alphabet):\n",
    "        valid_write_2 = valid_write_1 + char\n",
    "        char_path = os.path.join(alphabet, char)\n",
    "        os.makedirs(valid_write_2)\n",
    "        for drawer in os.listdir(char_path):\n",
    "            drawer_path = os.path.join(char_path, drawer)\n",
    "            shutil.copyfile(\n",
    "                drawer_path, os.path.join(\n",
    "                    valid_write_2, drawer\n",
    "                )\n",
    "            )"
   ]
  },
  {
   "cell_type": "code",
   "execution_count": 17,
   "metadata": {},
   "outputs": [],
   "source": [
    "# get list of alphabets\n",
    "test_alphabets = [os.path.join(eval_dir, x) for x in next(os.walk(eval_dir))[1]]\n",
    "test_alphabets.sort()"
   ]
  },
  {
   "cell_type": "code",
   "execution_count": 19,
   "metadata": {},
   "outputs": [],
   "source": [
    "test_write = os.path.join(write_dir, 'test')\n",
    "\n",
    "for alphabet in test_alphabets:\n",
    "    test_write_1 = test_write + '/' + alphabet.split('/')[-1] + '_' \n",
    "    for char in os.listdir(alphabet):\n",
    "        test_write_2 = test_write_1 + char\n",
    "        char_path = os.path.join(alphabet, char)\n",
    "        os.makedirs(test_write_2)\n",
    "        for drawer in os.listdir(char_path):\n",
    "            drawer_path = os.path.join(char_path, drawer)\n",
    "            shutil.copyfile(\n",
    "                drawer_path, os.path.join(\n",
    "                    test_write_2, drawer\n",
    "                )\n",
    "            )"
   ]
  }
 ],
 "metadata": {
  "kernelspec": {
   "display_name": "Python 3",
   "language": "python",
   "name": "python3"
  },
  "language_info": {
   "codemirror_mode": {
    "name": "ipython",
    "version": 3
   },
   "file_extension": ".py",
   "mimetype": "text/x-python",
   "name": "python",
   "nbconvert_exporter": "python",
   "pygments_lexer": "ipython3",
   "version": "3.7.5-final"
  }
 },
 "nbformat": 4,
 "nbformat_minor": 4
}