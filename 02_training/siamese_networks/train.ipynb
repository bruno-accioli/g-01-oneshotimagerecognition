{
 "cells": [
  {
   "cell_type": "code",
   "execution_count": 1,
   "metadata": {},
   "outputs": [],
   "source": [
    "import os\n",
    "import sys\n",
    "import torch\n",
    "import random\n",
    "\n",
    "sys.path.append('../../shared_libraries')\n",
    "from trainer import Trainer\n",
    "from config import get_config\n",
    "from utils import prepare_dirs, save_config, load_config\n",
    "from data_loader import get_train_valid_loader, get_test_loader\n",
    "\n",
    "root_dir = os.getcwd()"
   ]
  },
  {
   "cell_type": "markdown",
   "metadata": {},
   "source": [
    "# Load configuration"
   ]
  },
  {
   "cell_type": "code",
   "execution_count": 2,
   "metadata": {},
   "outputs": [
    {
     "name": "stdout",
     "output_type": "stream",
     "text": [
      "valid_trials : 320\n",
      "test_trials : 400\n",
      "way : 20\n",
      "num_train : 45000\n",
      "batch_size : 8\n",
      "num_workers : 1\n",
      "shuffle : True\n",
      "augment : True\n",
      "is_train : True\n",
      "epochs : 100\n",
      "init_momentum : 0.5\n",
      "lr_patience : 1\n",
      "train_patience : 20\n",
      "flush : False\n",
      "num_model : 2\n",
      "use_gpu : True\n",
      "best : True\n",
      "random_seed : 1\n",
      "data_dir : ./data/changed/\n",
      "ckpt_dir : ./ckpt/\n",
      "logs_dir : ./logs/\n",
      "resume : False\n"
     ]
    }
   ],
   "source": [
    "config, unparsed = get_config()\n",
    "\n",
    "config.num_train = 45000\n",
    "config.batch_size = 8\n",
    "config.epochs = 100\n",
    "config.num_model = 2\n",
    "\n",
    "# ensure directories are setup\n",
    "prepare_dirs(config)\n",
    "\n",
    "config.print_values()"
   ]
  },
  {
   "cell_type": "markdown",
   "metadata": {},
   "source": [
    "# Configure training"
   ]
  },
  {
   "cell_type": "code",
   "execution_count": 3,
   "metadata": {},
   "outputs": [
    {
     "name": "stdout",
     "output_type": "stream",
     "text": [
      "[*] Sampling layer hyperparameters.\n",
      "Warning: Overrinding experiment...\n",
      "[*] Model Checkpoint Dir: ./ckpt/exp_2\n",
      "[*] Param Path: ./ckpt/exp_2\\params.json\n"
     ]
    }
   ],
   "source": [
    "# create Omniglot data loaders\n",
    "torch.manual_seed(config.random_seed)\n",
    "kwargs = {}\n",
    "if config.use_gpu:\n",
    "    torch.cuda.manual_seed(config.random_seed)\n",
    "    kwargs = {'num_workers': 1, 'pin_memory': True}\n",
    "if config.is_train:\n",
    "    data_loader = get_train_valid_loader(\n",
    "        config.data_dir, config.batch_size,\n",
    "        config.num_train, config.augment,\n",
    "        config.way, config.valid_trials,\n",
    "        config.shuffle, config.random_seed,\n",
    "        **kwargs\n",
    "    )\n",
    "else:\n",
    "    data_loader = get_test_loader(\n",
    "        config.data_dir, config.way,\n",
    "        config.test_trials, config.random_seed,\n",
    "        **kwargs\n",
    "    )\n",
    "\n",
    "# sample 3 layer wise hyperparams if first time training\n",
    "if config.is_train and not config.resume:\n",
    "    print(\"[*] Sampling layer hyperparameters.\")\n",
    "\n",
    "    layer_hyperparams = {\n",
    "        'layer_init_lrs': [],\n",
    "        'layer_end_momentums': [],\n",
    "        'layer_l2_regs': []\n",
    "    }\n",
    "    for i in range(6):\n",
    "        # sample\n",
    "        lr = random.uniform(1e-4, 1e-1)\n",
    "        mom = random.uniform(0, 1)\n",
    "        reg = random.uniform(0, 0.1)\n",
    "\n",
    "        # store\n",
    "        layer_hyperparams['layer_init_lrs'].append(lr)\n",
    "        layer_hyperparams['layer_end_momentums'].append(mom)\n",
    "        layer_hyperparams['layer_l2_regs'].append(reg)\n",
    "    try:\n",
    "        save_config(config, layer_hyperparams, override=True)\n",
    "    except ValueError:\n",
    "        print(\n",
    "            \"[!] Samples already exist. Either change the model number,\",\n",
    "            \"or delete the json file and rerun.\",\n",
    "            sep=' '\n",
    "        )\n",
    "        raise\n",
    "# else load it from config file\n",
    "else:\n",
    "    try:\n",
    "        layer_hyperparams = load_config(config)\n",
    "    except FileNotFoundError:\n",
    "        print(\"[!] No previously saved config. Set resume to False.\")\n",
    "        raise"
   ]
  },
  {
   "cell_type": "markdown",
   "metadata": {},
   "source": [
    "# Train with data augmentation"
   ]
  },
  {
   "cell_type": "code",
   "execution_count": 4,
   "metadata": {
    "scrolled": true
   },
   "outputs": [
    {
     "name": "stderr",
     "output_type": "stream",
     "text": [
      "C:\\Users\\bruno\\Desktop\\siamese-neural-networks\\model.py:46: UserWarning: nn.init.normal is now deprecated in favor of nn.init.normal_.\n",
      "  nn.init.normal(m.weight, 0, 1e-2)\n",
      "C:\\Users\\bruno\\Desktop\\siamese-neural-networks\\model.py:47: UserWarning: nn.init.normal is now deprecated in favor of nn.init.normal_.\n",
      "  nn.init.normal(m.bias, 0.5, 1e-2)\n",
      "C:\\Users\\bruno\\Desktop\\siamese-neural-networks\\model.py:49: UserWarning: nn.init.normal is now deprecated in favor of nn.init.normal_.\n",
      "  nn.init.normal(m.weight, 0, 2e-1)\n",
      "C:\\Users\\bruno\\Desktop\\siamese-neural-networks\\model.py:50: UserWarning: nn.init.normal is now deprecated in favor of nn.init.normal_.\n",
      "  nn.init.normal(m.bias, 0, 1e-2)\n",
      "  0%|          | 0/45000 [00:00<?, ?it/s]"
     ]
    },
    {
     "name": "stdout",
     "output_type": "stream",
     "text": [
      "[*] Number of model parameters: 1,256,657\n",
      "\n",
      "[*] Train on 45000 sample pairs, validate on 320 trials\n",
      "\n",
      "Epoch: 1/100\n"
     ]
    },
    {
     "name": "stderr",
     "output_type": "stream",
     "text": [
      "C:\\Users\\bruno\\anaconda3\\envs\\pytorch\\lib\\site-packages\\torch\\nn\\functional.py:1639: UserWarning: nn.functional.sigmoid is deprecated. Use torch.sigmoid instead.\n",
      "  warnings.warn(\"nn.functional.sigmoid is deprecated. Use torch.sigmoid instead.\")\n",
      "0.0s - loss: 0.495: 100%|██████████| 45000/45000 [04:59<00:00, 150.05it/s]\n",
      "C:\\Users\\bruno\\Desktop\\siamese-neural-networks\\trainer.py:249: UserWarning: volatile was removed and now has no effect. Use `with torch.no_grad():` instead.\n",
      "  x1, x2 = Variable(x1, volatile=True), Variable(x2, volatile=True)\n",
      "  0%|          | 0/45000 [00:00<?, ?it/s]"
     ]
    },
    {
     "name": "stdout",
     "output_type": "stream",
     "text": [
      "train loss: 0.639 - val acc: 21.250 [*]\n",
      "\n",
      "Epoch: 2/100\n"
     ]
    },
    {
     "name": "stderr",
     "output_type": "stream",
     "text": [
      "0.0s - loss: 0.298: 100%|██████████| 45000/45000 [04:54<00:00, 153.05it/s]\n",
      "  0%|          | 0/45000 [00:00<?, ?it/s]"
     ]
    },
    {
     "name": "stdout",
     "output_type": "stream",
     "text": [
      "train loss: 0.527 - val acc: 36.250 [*]\n",
      "\n",
      "Epoch: 3/100\n"
     ]
    },
    {
     "name": "stderr",
     "output_type": "stream",
     "text": [
      "0.0s - loss: 0.908: 100%|██████████| 45000/45000 [04:59<00:00, 150.44it/s]\n",
      "  0%|          | 0/45000 [00:00<?, ?it/s]"
     ]
    },
    {
     "name": "stdout",
     "output_type": "stream",
     "text": [
      "train loss: 0.398 - val acc: 54.688 [*]\n",
      "\n",
      "Epoch: 4/100\n"
     ]
    },
    {
     "name": "stderr",
     "output_type": "stream",
     "text": [
      "0.0s - loss: 0.293: 100%|██████████| 45000/45000 [04:55<00:00, 152.03it/s]\n",
      "  0%|          | 0/45000 [00:00<?, ?it/s]"
     ]
    },
    {
     "name": "stdout",
     "output_type": "stream",
     "text": [
      "train loss: 0.305 - val acc: 56.562 [*]\n",
      "\n",
      "Epoch: 5/100\n"
     ]
    },
    {
     "name": "stderr",
     "output_type": "stream",
     "text": [
      "0.0s - loss: 0.634: 100%|██████████| 45000/45000 [04:56<00:00, 151.65it/s]\n",
      "  0%|          | 0/45000 [00:00<?, ?it/s]"
     ]
    },
    {
     "name": "stdout",
     "output_type": "stream",
     "text": [
      "train loss: 0.265 - val acc: 62.500 [*]\n",
      "\n",
      "Epoch: 6/100\n"
     ]
    },
    {
     "name": "stderr",
     "output_type": "stream",
     "text": [
      "0.0s - loss: 0.273: 100%|██████████| 45000/45000 [05:30<00:00, 136.32it/s]\n",
      "  0%|          | 0/45000 [00:00<?, ?it/s]"
     ]
    },
    {
     "name": "stdout",
     "output_type": "stream",
     "text": [
      "train loss: 0.239 - val acc: 64.688 [*]\n",
      "\n",
      "Epoch: 7/100\n"
     ]
    },
    {
     "name": "stderr",
     "output_type": "stream",
     "text": [
      "0.0s - loss: 0.121: 100%|██████████| 45000/45000 [05:00<00:00, 149.99it/s]\n",
      "  0%|          | 0/45000 [00:00<?, ?it/s]"
     ]
    },
    {
     "name": "stdout",
     "output_type": "stream",
     "text": [
      "train loss: 0.224 - val acc: 66.875 [*]\n",
      "\n",
      "Epoch: 8/100\n"
     ]
    },
    {
     "name": "stderr",
     "output_type": "stream",
     "text": [
      "0.0s - loss: 0.289: 100%|██████████| 45000/45000 [04:55<00:00, 152.43it/s]\n",
      "  0%|          | 0/45000 [00:00<?, ?it/s]"
     ]
    },
    {
     "name": "stdout",
     "output_type": "stream",
     "text": [
      "train loss: 0.206 - val acc: 69.062 [*]\n",
      "\n",
      "Epoch: 9/100\n"
     ]
    },
    {
     "name": "stderr",
     "output_type": "stream",
     "text": [
      "0.0s - loss: 0.062: 100%|██████████| 45000/45000 [04:58<00:00, 150.90it/s]\n",
      "  0%|          | 0/45000 [00:00<?, ?it/s]"
     ]
    },
    {
     "name": "stdout",
     "output_type": "stream",
     "text": [
      "train loss: 0.192 - val acc: 67.812\n",
      "\n",
      "Epoch: 10/100\n"
     ]
    },
    {
     "name": "stderr",
     "output_type": "stream",
     "text": [
      "0.0s - loss: 0.233: 100%|██████████| 45000/45000 [04:54<00:00, 152.82it/s]\n",
      "  0%|          | 0/45000 [00:00<?, ?it/s]"
     ]
    },
    {
     "name": "stdout",
     "output_type": "stream",
     "text": [
      "train loss: 0.188 - val acc: 71.250 [*]\n",
      "\n",
      "Epoch: 11/100\n"
     ]
    },
    {
     "name": "stderr",
     "output_type": "stream",
     "text": [
      "0.0s - loss: 0.573: 100%|██████████| 45000/45000 [04:56<00:00, 151.93it/s]\n",
      "  0%|          | 0/45000 [00:00<?, ?it/s]"
     ]
    },
    {
     "name": "stdout",
     "output_type": "stream",
     "text": [
      "train loss: 0.183 - val acc: 72.188 [*]\n",
      "\n",
      "Epoch: 12/100\n"
     ]
    },
    {
     "name": "stderr",
     "output_type": "stream",
     "text": [
      "0.0s - loss: 0.246: 100%|██████████| 45000/45000 [04:55<00:00, 152.50it/s]\n",
      "  0%|          | 0/45000 [00:00<?, ?it/s]"
     ]
    },
    {
     "name": "stdout",
     "output_type": "stream",
     "text": [
      "train loss: 0.174 - val acc: 75.625 [*]\n",
      "\n",
      "Epoch: 13/100\n"
     ]
    },
    {
     "name": "stderr",
     "output_type": "stream",
     "text": [
      "0.0s - loss: 0.120: 100%|██████████| 45000/45000 [04:55<00:00, 152.36it/s]\n",
      "  0%|          | 0/45000 [00:00<?, ?it/s]"
     ]
    },
    {
     "name": "stdout",
     "output_type": "stream",
     "text": [
      "train loss: 0.172 - val acc: 74.375\n",
      "\n",
      "Epoch: 14/100\n"
     ]
    },
    {
     "name": "stderr",
     "output_type": "stream",
     "text": [
      "0.1s - loss: 0.010: 100%|██████████| 45000/45000 [04:55<00:00, 152.08it/s]\n",
      "  0%|          | 0/45000 [00:00<?, ?it/s]"
     ]
    },
    {
     "name": "stdout",
     "output_type": "stream",
     "text": [
      "train loss: 0.169 - val acc: 75.312\n",
      "\n",
      "Epoch: 15/100\n"
     ]
    },
    {
     "name": "stderr",
     "output_type": "stream",
     "text": [
      "0.0s - loss: 0.255: 100%|██████████| 45000/45000 [37:57<00:00, 19.75it/s]   \n",
      "  0%|          | 0/45000 [00:00<?, ?it/s]"
     ]
    },
    {
     "name": "stdout",
     "output_type": "stream",
     "text": [
      "train loss: 0.162 - val acc: 77.812 [*]\n",
      "\n",
      "Epoch: 16/100\n"
     ]
    },
    {
     "name": "stderr",
     "output_type": "stream",
     "text": [
      "0.0s - loss: 0.116: 100%|██████████| 45000/45000 [04:55<00:00, 152.07it/s]\n",
      "  0%|          | 0/45000 [00:00<?, ?it/s]"
     ]
    },
    {
     "name": "stdout",
     "output_type": "stream",
     "text": [
      "train loss: 0.155 - val acc: 77.500\n",
      "\n",
      "Epoch: 17/100\n"
     ]
    },
    {
     "name": "stderr",
     "output_type": "stream",
     "text": [
      "0.0s - loss: 0.159: 100%|██████████| 45000/45000 [04:54<00:00, 152.64it/s]\n",
      "  0%|          | 0/45000 [00:00<?, ?it/s]"
     ]
    },
    {
     "name": "stdout",
     "output_type": "stream",
     "text": [
      "train loss: 0.153 - val acc: 78.125 [*]\n",
      "\n",
      "Epoch: 18/100\n"
     ]
    },
    {
     "name": "stderr",
     "output_type": "stream",
     "text": [
      "0.0s - loss: 0.084: 100%|██████████| 45000/45000 [04:55<00:00, 152.51it/s]\n",
      "  0%|          | 0/45000 [00:00<?, ?it/s]"
     ]
    },
    {
     "name": "stdout",
     "output_type": "stream",
     "text": [
      "train loss: 0.151 - val acc: 81.875 [*]\n",
      "\n",
      "Epoch: 19/100\n"
     ]
    },
    {
     "name": "stderr",
     "output_type": "stream",
     "text": [
      "0.0s - loss: 0.086: 100%|██████████| 45000/45000 [04:54<00:00, 152.87it/s]\n",
      "  0%|          | 0/45000 [00:00<?, ?it/s]"
     ]
    },
    {
     "name": "stdout",
     "output_type": "stream",
     "text": [
      "train loss: 0.146 - val acc: 80.000\n",
      "\n",
      "Epoch: 20/100\n"
     ]
    },
    {
     "name": "stderr",
     "output_type": "stream",
     "text": [
      "0.0s - loss: 0.074: 100%|██████████| 45000/45000 [04:54<00:00, 152.75it/s]\n",
      "  0%|          | 0/45000 [00:00<?, ?it/s]"
     ]
    },
    {
     "name": "stdout",
     "output_type": "stream",
     "text": [
      "train loss: 0.148 - val acc: 80.000\n",
      "\n",
      "Epoch: 21/100\n"
     ]
    },
    {
     "name": "stderr",
     "output_type": "stream",
     "text": [
      "0.0s - loss: 0.196: 100%|██████████| 45000/45000 [04:55<00:00, 152.19it/s]\n",
      "  0%|          | 0/45000 [00:00<?, ?it/s]"
     ]
    },
    {
     "name": "stdout",
     "output_type": "stream",
     "text": [
      "train loss: 0.142 - val acc: 82.188 [*]\n",
      "\n",
      "Epoch: 22/100\n"
     ]
    },
    {
     "name": "stderr",
     "output_type": "stream",
     "text": [
      "0.0s - loss: 0.361: 100%|██████████| 45000/45000 [04:56<00:00, 151.73it/s]\n",
      "  0%|          | 0/45000 [00:00<?, ?it/s]"
     ]
    },
    {
     "name": "stdout",
     "output_type": "stream",
     "text": [
      "train loss: 0.142 - val acc: 82.812 [*]\n",
      "\n",
      "Epoch: 23/100\n"
     ]
    },
    {
     "name": "stderr",
     "output_type": "stream",
     "text": [
      "0.0s - loss: 0.098: 100%|██████████| 45000/45000 [04:53<00:00, 153.37it/s]\n",
      "  0%|          | 0/45000 [00:00<?, ?it/s]"
     ]
    },
    {
     "name": "stdout",
     "output_type": "stream",
     "text": [
      "train loss: 0.139 - val acc: 81.250\n",
      "\n",
      "Epoch: 24/100\n"
     ]
    },
    {
     "name": "stderr",
     "output_type": "stream",
     "text": [
      "0.0s - loss: 0.023: 100%|██████████| 45000/45000 [04:54<00:00, 152.64it/s]\n",
      "  0%|          | 0/45000 [00:00<?, ?it/s]"
     ]
    },
    {
     "name": "stdout",
     "output_type": "stream",
     "text": [
      "train loss: 0.132 - val acc: 78.750\n",
      "\n",
      "Epoch: 25/100\n"
     ]
    },
    {
     "name": "stderr",
     "output_type": "stream",
     "text": [
      "0.0s - loss: 0.287: 100%|██████████| 45000/45000 [04:54<00:00, 152.91it/s]\n",
      "  0%|          | 0/45000 [00:00<?, ?it/s]"
     ]
    },
    {
     "name": "stdout",
     "output_type": "stream",
     "text": [
      "train loss: 0.137 - val acc: 81.562\n",
      "\n",
      "Epoch: 26/100\n"
     ]
    },
    {
     "name": "stderr",
     "output_type": "stream",
     "text": [
      "0.0s - loss: 0.106: 100%|██████████| 45000/45000 [04:55<00:00, 152.31it/s]\n",
      "  0%|          | 0/45000 [00:00<?, ?it/s]"
     ]
    },
    {
     "name": "stdout",
     "output_type": "stream",
     "text": [
      "train loss: 0.129 - val acc: 82.500\n",
      "\n",
      "Epoch: 27/100\n"
     ]
    },
    {
     "name": "stderr",
     "output_type": "stream",
     "text": [
      "0.0s - loss: 0.004: 100%|██████████| 45000/45000 [04:54<00:00, 153.04it/s]\n",
      "  0%|          | 0/45000 [00:00<?, ?it/s]"
     ]
    },
    {
     "name": "stdout",
     "output_type": "stream",
     "text": [
      "train loss: 0.130 - val acc: 82.188\n",
      "\n",
      "Epoch: 28/100\n"
     ]
    },
    {
     "name": "stderr",
     "output_type": "stream",
     "text": [
      "0.0s - loss: 0.338: 100%|██████████| 45000/45000 [04:55<00:00, 152.04it/s]\n",
      "  0%|          | 0/45000 [00:00<?, ?it/s]"
     ]
    },
    {
     "name": "stdout",
     "output_type": "stream",
     "text": [
      "train loss: 0.130 - val acc: 81.875\n",
      "\n",
      "Epoch: 29/100\n"
     ]
    },
    {
     "name": "stderr",
     "output_type": "stream",
     "text": [
      "0.0s - loss: 0.036: 100%|██████████| 45000/45000 [04:53<00:00, 153.41it/s]\n",
      "  0%|          | 0/45000 [00:00<?, ?it/s]"
     ]
    },
    {
     "name": "stdout",
     "output_type": "stream",
     "text": [
      "train loss: 0.129 - val acc: 84.062 [*]\n",
      "\n",
      "Epoch: 30/100\n"
     ]
    },
    {
     "name": "stderr",
     "output_type": "stream",
     "text": [
      "0.0s - loss: 0.021: 100%|██████████| 45000/45000 [04:54<00:00, 152.71it/s]\n",
      "  0%|          | 0/45000 [00:00<?, ?it/s]"
     ]
    },
    {
     "name": "stdout",
     "output_type": "stream",
     "text": [
      "train loss: 0.130 - val acc: 82.188\n",
      "\n",
      "Epoch: 31/100\n"
     ]
    },
    {
     "name": "stderr",
     "output_type": "stream",
     "text": [
      "0.0s - loss: 0.185: 100%|██████████| 45000/45000 [04:53<00:00, 153.29it/s]\n",
      "  0%|          | 0/45000 [00:00<?, ?it/s]"
     ]
    },
    {
     "name": "stdout",
     "output_type": "stream",
     "text": [
      "train loss: 0.125 - val acc: 82.500\n",
      "\n",
      "Epoch: 32/100\n"
     ]
    },
    {
     "name": "stderr",
     "output_type": "stream",
     "text": [
      "0.0s - loss: 0.217: 100%|██████████| 45000/45000 [04:54<00:00, 152.81it/s]\n",
      "  0%|          | 0/45000 [00:00<?, ?it/s]"
     ]
    },
    {
     "name": "stdout",
     "output_type": "stream",
     "text": [
      "train loss: 0.126 - val acc: 82.188\n",
      "\n",
      "Epoch: 33/100\n"
     ]
    },
    {
     "name": "stderr",
     "output_type": "stream",
     "text": [
      "0.0s - loss: 0.146: 100%|██████████| 45000/45000 [04:54<00:00, 152.61it/s]\n",
      "  0%|          | 0/45000 [00:00<?, ?it/s]"
     ]
    },
    {
     "name": "stdout",
     "output_type": "stream",
     "text": [
      "train loss: 0.124 - val acc: 80.938\n",
      "\n",
      "Epoch: 34/100\n"
     ]
    },
    {
     "name": "stderr",
     "output_type": "stream",
     "text": [
      "0.0s - loss: 0.142: 100%|██████████| 45000/45000 [04:54<00:00, 152.94it/s]\n",
      "  0%|          | 0/45000 [00:00<?, ?it/s]"
     ]
    },
    {
     "name": "stdout",
     "output_type": "stream",
     "text": [
      "train loss: 0.122 - val acc: 85.312 [*]\n",
      "\n",
      "Epoch: 35/100\n"
     ]
    },
    {
     "name": "stderr",
     "output_type": "stream",
     "text": [
      "0.0s - loss: 0.369: 100%|██████████| 45000/45000 [04:54<00:00, 152.59it/s]\n",
      "  0%|          | 0/45000 [00:00<?, ?it/s]"
     ]
    },
    {
     "name": "stdout",
     "output_type": "stream",
     "text": [
      "train loss: 0.121 - val acc: 85.000\n",
      "\n",
      "Epoch: 36/100\n"
     ]
    },
    {
     "name": "stderr",
     "output_type": "stream",
     "text": [
      "0.0s - loss: 0.067: 100%|██████████| 45000/45000 [04:53<00:00, 153.30it/s]\n",
      "  0%|          | 0/45000 [00:00<?, ?it/s]"
     ]
    },
    {
     "name": "stdout",
     "output_type": "stream",
     "text": [
      "train loss: 0.122 - val acc: 85.938 [*]\n",
      "\n",
      "Epoch: 37/100\n"
     ]
    },
    {
     "name": "stderr",
     "output_type": "stream",
     "text": [
      "0.0s - loss: 0.005: 100%|██████████| 45000/45000 [04:53<00:00, 153.16it/s]\n",
      "  0%|          | 0/45000 [00:00<?, ?it/s]"
     ]
    },
    {
     "name": "stdout",
     "output_type": "stream",
     "text": [
      "train loss: 0.119 - val acc: 85.938\n",
      "\n",
      "Epoch: 38/100\n"
     ]
    },
    {
     "name": "stderr",
     "output_type": "stream",
     "text": [
      "0.0s - loss: 0.440: 100%|██████████| 45000/45000 [04:53<00:00, 153.13it/s]\n",
      "  0%|          | 0/45000 [00:00<?, ?it/s]"
     ]
    },
    {
     "name": "stdout",
     "output_type": "stream",
     "text": [
      "train loss: 0.120 - val acc: 86.250 [*]\n",
      "\n",
      "Epoch: 39/100\n"
     ]
    },
    {
     "name": "stderr",
     "output_type": "stream",
     "text": [
      "0.0s - loss: 0.103: 100%|██████████| 45000/45000 [04:54<00:00, 152.83it/s]\n",
      "  0%|          | 0/45000 [00:00<?, ?it/s]"
     ]
    },
    {
     "name": "stdout",
     "output_type": "stream",
     "text": [
      "train loss: 0.119 - val acc: 85.625\n",
      "\n",
      "Epoch: 40/100\n"
     ]
    },
    {
     "name": "stderr",
     "output_type": "stream",
     "text": [
      "0.0s - loss: 0.087: 100%|██████████| 45000/45000 [04:53<00:00, 153.42it/s]\n",
      "  0%|          | 0/45000 [00:00<?, ?it/s]"
     ]
    },
    {
     "name": "stdout",
     "output_type": "stream",
     "text": [
      "train loss: 0.115 - val acc: 85.000\n",
      "\n",
      "Epoch: 41/100\n"
     ]
    },
    {
     "name": "stderr",
     "output_type": "stream",
     "text": [
      "0.0s - loss: 0.055: 100%|██████████| 45000/45000 [04:55<00:00, 152.12it/s]\n",
      "  0%|          | 0/45000 [00:00<?, ?it/s]"
     ]
    },
    {
     "name": "stdout",
     "output_type": "stream",
     "text": [
      "train loss: 0.115 - val acc: 82.188\n",
      "\n",
      "Epoch: 42/100\n"
     ]
    },
    {
     "name": "stderr",
     "output_type": "stream",
     "text": [
      "0.0s - loss: 0.054: 100%|██████████| 45000/45000 [05:00<00:00, 149.62it/s]\n",
      "  0%|          | 0/45000 [00:00<?, ?it/s]"
     ]
    },
    {
     "name": "stdout",
     "output_type": "stream",
     "text": [
      "train loss: 0.116 - val acc: 84.688\n",
      "\n",
      "Epoch: 43/100\n"
     ]
    },
    {
     "name": "stderr",
     "output_type": "stream",
     "text": [
      "0.0s - loss: 0.013: 100%|██████████| 45000/45000 [04:56<00:00, 151.94it/s]\n",
      "  0%|          | 0/45000 [00:00<?, ?it/s]"
     ]
    },
    {
     "name": "stdout",
     "output_type": "stream",
     "text": [
      "train loss: 0.114 - val acc: 86.250\n",
      "\n",
      "Epoch: 44/100\n"
     ]
    },
    {
     "name": "stderr",
     "output_type": "stream",
     "text": [
      "0.0s - loss: 0.142: 100%|██████████| 45000/45000 [04:54<00:00, 152.62it/s]\n",
      "  0%|          | 0/45000 [00:00<?, ?it/s]"
     ]
    },
    {
     "name": "stdout",
     "output_type": "stream",
     "text": [
      "train loss: 0.112 - val acc: 84.062\n",
      "\n",
      "Epoch: 45/100\n"
     ]
    },
    {
     "name": "stderr",
     "output_type": "stream",
     "text": [
      "0.0s - loss: 0.179: 100%|██████████| 45000/45000 [04:55<00:00, 152.51it/s]\n",
      "  0%|          | 0/45000 [00:00<?, ?it/s]"
     ]
    },
    {
     "name": "stdout",
     "output_type": "stream",
     "text": [
      "train loss: 0.115 - val acc: 87.500 [*]\n",
      "\n",
      "Epoch: 46/100\n"
     ]
    },
    {
     "name": "stderr",
     "output_type": "stream",
     "text": [
      "0.0s - loss: 0.020: 100%|██████████| 45000/45000 [05:17<00:00, 141.66it/s]\n",
      "  0%|          | 0/45000 [00:00<?, ?it/s]"
     ]
    },
    {
     "name": "stdout",
     "output_type": "stream",
     "text": [
      "train loss: 0.112 - val acc: 85.312\n",
      "\n",
      "Epoch: 47/100\n"
     ]
    },
    {
     "name": "stderr",
     "output_type": "stream",
     "text": [
      "0.0s - loss: 0.096: 100%|██████████| 45000/45000 [05:47<00:00, 129.52it/s]\n",
      "  0%|          | 0/45000 [00:00<?, ?it/s]"
     ]
    },
    {
     "name": "stdout",
     "output_type": "stream",
     "text": [
      "train loss: 0.110 - val acc: 85.938\n",
      "\n",
      "Epoch: 48/100\n"
     ]
    },
    {
     "name": "stderr",
     "output_type": "stream",
     "text": [
      "0.0s - loss: 0.029: 100%|██████████| 45000/45000 [06:21<00:00, 118.01it/s]\n",
      "  0%|          | 0/45000 [00:00<?, ?it/s]"
     ]
    },
    {
     "name": "stdout",
     "output_type": "stream",
     "text": [
      "train loss: 0.110 - val acc: 84.688\n",
      "\n",
      "Epoch: 49/100\n"
     ]
    },
    {
     "name": "stderr",
     "output_type": "stream",
     "text": [
      "0.0s - loss: 0.087: 100%|██████████| 45000/45000 [07:15<00:00, 103.34it/s]\n",
      "  0%|          | 0/45000 [00:00<?, ?it/s]"
     ]
    },
    {
     "name": "stdout",
     "output_type": "stream",
     "text": [
      "train loss: 0.111 - val acc: 85.312\n",
      "\n",
      "Epoch: 50/100\n"
     ]
    },
    {
     "name": "stderr",
     "output_type": "stream",
     "text": [
      "0.0s - loss: 0.091: 100%|██████████| 45000/45000 [07:04<00:00, 105.95it/s]\n",
      "  0%|          | 0/45000 [00:00<?, ?it/s]"
     ]
    },
    {
     "name": "stdout",
     "output_type": "stream",
     "text": [
      "train loss: 0.111 - val acc: 88.125 [*]\n",
      "\n",
      "Epoch: 51/100\n"
     ]
    },
    {
     "name": "stderr",
     "output_type": "stream",
     "text": [
      "0.0s - loss: 0.020: 100%|██████████| 45000/45000 [07:09<00:00, 104.68it/s]\n",
      "  0%|          | 0/45000 [00:00<?, ?it/s]"
     ]
    },
    {
     "name": "stdout",
     "output_type": "stream",
     "text": [
      "train loss: 0.113 - val acc: 88.750 [*]\n",
      "\n",
      "Epoch: 52/100\n"
     ]
    },
    {
     "name": "stderr",
     "output_type": "stream",
     "text": [
      "0.0s - loss: 0.160: 100%|██████████| 45000/45000 [07:14<00:00, 103.52it/s]\n",
      "  0%|          | 0/45000 [00:00<?, ?it/s]"
     ]
    },
    {
     "name": "stdout",
     "output_type": "stream",
     "text": [
      "train loss: 0.109 - val acc: 86.875\n",
      "\n",
      "Epoch: 53/100\n"
     ]
    },
    {
     "name": "stderr",
     "output_type": "stream",
     "text": [
      "0.0s - loss: 0.056: 100%|██████████| 45000/45000 [07:17<00:00, 102.76it/s]\n",
      "  0%|          | 0/45000 [00:00<?, ?it/s]"
     ]
    },
    {
     "name": "stdout",
     "output_type": "stream",
     "text": [
      "train loss: 0.109 - val acc: 87.188\n",
      "\n",
      "Epoch: 54/100\n"
     ]
    },
    {
     "name": "stderr",
     "output_type": "stream",
     "text": [
      "0.0s - loss: 0.038: 100%|██████████| 45000/45000 [07:22<00:00, 101.77it/s]\n",
      "  0%|          | 0/45000 [00:00<?, ?it/s]"
     ]
    },
    {
     "name": "stdout",
     "output_type": "stream",
     "text": [
      "train loss: 0.111 - val acc: 86.250\n",
      "\n",
      "Epoch: 55/100\n"
     ]
    },
    {
     "name": "stderr",
     "output_type": "stream",
     "text": [
      "0.0s - loss: 0.031: 100%|██████████| 45000/45000 [07:21<00:00, 101.86it/s]\n",
      "  0%|          | 0/45000 [00:00<?, ?it/s]"
     ]
    },
    {
     "name": "stdout",
     "output_type": "stream",
     "text": [
      "train loss: 0.108 - val acc: 84.688\n",
      "\n",
      "Epoch: 56/100\n"
     ]
    },
    {
     "name": "stderr",
     "output_type": "stream",
     "text": [
      "0.0s - loss: 0.019: 100%|██████████| 45000/45000 [07:20<00:00, 102.06it/s]\n",
      "  0%|          | 0/45000 [00:00<?, ?it/s]"
     ]
    },
    {
     "name": "stdout",
     "output_type": "stream",
     "text": [
      "train loss: 0.111 - val acc: 87.500\n",
      "\n",
      "Epoch: 57/100\n"
     ]
    },
    {
     "name": "stderr",
     "output_type": "stream",
     "text": [
      "0.0s - loss: 0.012: 100%|██████████| 45000/45000 [07:18<00:00, 102.68it/s]\n",
      "  0%|          | 0/45000 [00:00<?, ?it/s]"
     ]
    },
    {
     "name": "stdout",
     "output_type": "stream",
     "text": [
      "train loss: 0.111 - val acc: 85.625\n",
      "\n",
      "Epoch: 58/100\n"
     ]
    },
    {
     "name": "stderr",
     "output_type": "stream",
     "text": [
      "0.0s - loss: 0.033: 100%|██████████| 45000/45000 [07:19<00:00, 102.49it/s]\n",
      "  0%|          | 0/45000 [00:00<?, ?it/s]"
     ]
    },
    {
     "name": "stdout",
     "output_type": "stream",
     "text": [
      "train loss: 0.105 - val acc: 85.938\n",
      "\n",
      "Epoch: 59/100\n"
     ]
    },
    {
     "name": "stderr",
     "output_type": "stream",
     "text": [
      "0.0s - loss: 0.012: 100%|██████████| 45000/45000 [07:19<00:00, 102.39it/s]\n",
      "  0%|          | 0/45000 [00:00<?, ?it/s]"
     ]
    },
    {
     "name": "stdout",
     "output_type": "stream",
     "text": [
      "train loss: 0.104 - val acc: 87.812\n",
      "\n",
      "Epoch: 60/100\n"
     ]
    },
    {
     "name": "stderr",
     "output_type": "stream",
     "text": [
      "0.0s - loss: 0.019: 100%|██████████| 45000/45000 [07:21<00:00, 101.92it/s]\n",
      "  0%|          | 0/45000 [00:00<?, ?it/s]"
     ]
    },
    {
     "name": "stdout",
     "output_type": "stream",
     "text": [
      "train loss: 0.106 - val acc: 88.750\n",
      "\n",
      "Epoch: 61/100\n"
     ]
    },
    {
     "name": "stderr",
     "output_type": "stream",
     "text": [
      "0.0s - loss: 0.199: 100%|██████████| 45000/45000 [07:25<00:00, 101.11it/s]\n",
      "  0%|          | 0/45000 [00:00<?, ?it/s]"
     ]
    },
    {
     "name": "stdout",
     "output_type": "stream",
     "text": [
      "train loss: 0.103 - val acc: 87.500\n",
      "\n",
      "Epoch: 62/100\n"
     ]
    },
    {
     "name": "stderr",
     "output_type": "stream",
     "text": [
      "0.0s - loss: 0.166: 100%|██████████| 45000/45000 [07:21<00:00, 101.86it/s]\n",
      "  0%|          | 0/45000 [00:00<?, ?it/s]"
     ]
    },
    {
     "name": "stdout",
     "output_type": "stream",
     "text": [
      "train loss: 0.103 - val acc: 89.688 [*]\n",
      "\n",
      "Epoch: 63/100\n"
     ]
    },
    {
     "name": "stderr",
     "output_type": "stream",
     "text": [
      "0.0s - loss: 0.141: 100%|██████████| 45000/45000 [07:21<00:00, 101.85it/s]\n",
      "  0%|          | 0/45000 [00:00<?, ?it/s]"
     ]
    },
    {
     "name": "stdout",
     "output_type": "stream",
     "text": [
      "train loss: 0.101 - val acc: 87.500\n",
      "\n",
      "Epoch: 64/100\n"
     ]
    },
    {
     "name": "stderr",
     "output_type": "stream",
     "text": [
      "0.0s - loss: 0.021: 100%|██████████| 45000/45000 [07:21<00:00, 101.97it/s]\n",
      "  0%|          | 0/45000 [00:00<?, ?it/s]"
     ]
    },
    {
     "name": "stdout",
     "output_type": "stream",
     "text": [
      "train loss: 0.103 - val acc: 87.188\n",
      "\n",
      "Epoch: 65/100\n"
     ]
    },
    {
     "name": "stderr",
     "output_type": "stream",
     "text": [
      "0.0s - loss: 0.314: 100%|██████████| 45000/45000 [07:21<00:00, 102.03it/s]\n",
      "  0%|          | 0/45000 [00:00<?, ?it/s]"
     ]
    },
    {
     "name": "stdout",
     "output_type": "stream",
     "text": [
      "train loss: 0.105 - val acc: 88.438\n",
      "\n",
      "Epoch: 66/100\n"
     ]
    },
    {
     "name": "stderr",
     "output_type": "stream",
     "text": [
      "0.0s - loss: 0.206: 100%|██████████| 45000/45000 [07:21<00:00, 101.98it/s]\n",
      "  0%|          | 0/45000 [00:00<?, ?it/s]"
     ]
    },
    {
     "name": "stdout",
     "output_type": "stream",
     "text": [
      "train loss: 0.107 - val acc: 87.812\n",
      "\n",
      "Epoch: 67/100\n"
     ]
    },
    {
     "name": "stderr",
     "output_type": "stream",
     "text": [
      "0.0s - loss: 0.085: 100%|██████████| 45000/45000 [07:21<00:00, 101.91it/s]\n",
      "  0%|          | 0/45000 [00:00<?, ?it/s]"
     ]
    },
    {
     "name": "stdout",
     "output_type": "stream",
     "text": [
      "train loss: 0.101 - val acc: 86.875\n",
      "\n",
      "Epoch: 68/100\n"
     ]
    },
    {
     "name": "stderr",
     "output_type": "stream",
     "text": [
      "0.0s - loss: 0.045: 100%|██████████| 45000/45000 [07:25<00:00, 101.00it/s]\n",
      "  0%|          | 0/45000 [00:00<?, ?it/s]"
     ]
    },
    {
     "name": "stdout",
     "output_type": "stream",
     "text": [
      "train loss: 0.102 - val acc: 87.500\n",
      "\n",
      "Epoch: 69/100\n"
     ]
    },
    {
     "name": "stderr",
     "output_type": "stream",
     "text": [
      "0.0s - loss: 0.010: 100%|██████████| 45000/45000 [07:22<00:00, 101.75it/s]\n",
      "  0%|          | 0/45000 [00:00<?, ?it/s]"
     ]
    },
    {
     "name": "stdout",
     "output_type": "stream",
     "text": [
      "train loss: 0.102 - val acc: 88.125\n",
      "\n",
      "Epoch: 70/100\n"
     ]
    },
    {
     "name": "stderr",
     "output_type": "stream",
     "text": [
      "0.0s - loss: 0.013: 100%|██████████| 45000/45000 [07:25<00:00, 101.00it/s]\n",
      "  0%|          | 0/45000 [00:00<?, ?it/s]"
     ]
    },
    {
     "name": "stdout",
     "output_type": "stream",
     "text": [
      "train loss: 0.098 - val acc: 86.562\n",
      "\n",
      "Epoch: 71/100\n"
     ]
    },
    {
     "name": "stderr",
     "output_type": "stream",
     "text": [
      "0.0s - loss: 0.111: 100%|██████████| 45000/45000 [07:21<00:00, 101.96it/s]\n",
      "  0%|          | 0/45000 [00:00<?, ?it/s]"
     ]
    },
    {
     "name": "stdout",
     "output_type": "stream",
     "text": [
      "train loss: 0.102 - val acc: 87.812\n",
      "\n",
      "Epoch: 72/100\n"
     ]
    },
    {
     "name": "stderr",
     "output_type": "stream",
     "text": [
      "0.0s - loss: 0.002: 100%|██████████| 45000/45000 [07:25<00:00, 100.91it/s]\n",
      "  0%|          | 0/45000 [00:00<?, ?it/s]"
     ]
    },
    {
     "name": "stdout",
     "output_type": "stream",
     "text": [
      "train loss: 0.101 - val acc: 87.500\n",
      "\n",
      "Epoch: 73/100\n"
     ]
    },
    {
     "name": "stderr",
     "output_type": "stream",
     "text": [
      "0.0s - loss: 0.024: 100%|██████████| 45000/45000 [07:22<00:00, 101.59it/s]\n",
      "  0%|          | 0/45000 [00:00<?, ?it/s]"
     ]
    },
    {
     "name": "stdout",
     "output_type": "stream",
     "text": [
      "train loss: 0.099 - val acc: 90.000 [*]\n",
      "\n",
      "Epoch: 74/100\n"
     ]
    },
    {
     "name": "stderr",
     "output_type": "stream",
     "text": [
      "0.0s - loss: 0.005: 100%|██████████| 45000/45000 [07:21<00:00, 101.83it/s]\n",
      "  0%|          | 0/45000 [00:00<?, ?it/s]"
     ]
    },
    {
     "name": "stdout",
     "output_type": "stream",
     "text": [
      "train loss: 0.100 - val acc: 87.500\n",
      "\n",
      "Epoch: 75/100\n"
     ]
    },
    {
     "name": "stderr",
     "output_type": "stream",
     "text": [
      "0.0s - loss: 0.010: 100%|██████████| 45000/45000 [07:22<00:00, 101.76it/s]\n",
      "  0%|          | 0/45000 [00:00<?, ?it/s]"
     ]
    },
    {
     "name": "stdout",
     "output_type": "stream",
     "text": [
      "train loss: 0.100 - val acc: 88.125\n",
      "\n",
      "Epoch: 76/100\n"
     ]
    },
    {
     "name": "stderr",
     "output_type": "stream",
     "text": [
      "0.0s - loss: 0.052: 100%|██████████| 45000/45000 [07:22<00:00, 101.77it/s]\n",
      "  0%|          | 0/45000 [00:00<?, ?it/s]"
     ]
    },
    {
     "name": "stdout",
     "output_type": "stream",
     "text": [
      "train loss: 0.103 - val acc: 88.750\n",
      "\n",
      "Epoch: 77/100\n"
     ]
    },
    {
     "name": "stderr",
     "output_type": "stream",
     "text": [
      "0.0s - loss: 0.018: 100%|██████████| 45000/45000 [07:21<00:00, 101.87it/s]\n",
      "  0%|          | 0/45000 [00:00<?, ?it/s]"
     ]
    },
    {
     "name": "stdout",
     "output_type": "stream",
     "text": [
      "train loss: 0.101 - val acc: 88.125\n",
      "\n",
      "Epoch: 78/100\n"
     ]
    },
    {
     "name": "stderr",
     "output_type": "stream",
     "text": [
      "0.0s - loss: 0.031: 100%|██████████| 45000/45000 [07:25<00:00, 100.97it/s]\n",
      "  0%|          | 0/45000 [00:00<?, ?it/s]"
     ]
    },
    {
     "name": "stdout",
     "output_type": "stream",
     "text": [
      "train loss: 0.099 - val acc: 89.062\n",
      "\n",
      "Epoch: 79/100\n"
     ]
    },
    {
     "name": "stderr",
     "output_type": "stream",
     "text": [
      "0.0s - loss: 0.092: 100%|██████████| 45000/45000 [07:25<00:00, 101.03it/s]\n",
      "  0%|          | 0/45000 [00:00<?, ?it/s]"
     ]
    },
    {
     "name": "stdout",
     "output_type": "stream",
     "text": [
      "train loss: 0.098 - val acc: 89.375\n",
      "\n",
      "Epoch: 80/100\n"
     ]
    },
    {
     "name": "stderr",
     "output_type": "stream",
     "text": [
      "0.0s - loss: 0.058: 100%|██████████| 45000/45000 [07:22<00:00, 101.61it/s]\n",
      "  0%|          | 0/45000 [00:00<?, ?it/s]"
     ]
    },
    {
     "name": "stdout",
     "output_type": "stream",
     "text": [
      "train loss: 0.097 - val acc: 86.875\n",
      "\n",
      "Epoch: 81/100\n"
     ]
    },
    {
     "name": "stderr",
     "output_type": "stream",
     "text": [
      "0.0s - loss: 0.058: 100%|██████████| 45000/45000 [07:22<00:00, 101.63it/s]\n",
      "  0%|          | 0/45000 [00:00<?, ?it/s]"
     ]
    },
    {
     "name": "stdout",
     "output_type": "stream",
     "text": [
      "train loss: 0.100 - val acc: 89.062\n",
      "\n",
      "Epoch: 82/100\n"
     ]
    },
    {
     "name": "stderr",
     "output_type": "stream",
     "text": [
      "0.0s - loss: 0.062: 100%|██████████| 45000/45000 [07:22<00:00, 101.58it/s]\n",
      "  0%|          | 0/45000 [00:00<?, ?it/s]"
     ]
    },
    {
     "name": "stdout",
     "output_type": "stream",
     "text": [
      "train loss: 0.099 - val acc: 88.438\n",
      "\n",
      "Epoch: 83/100\n"
     ]
    },
    {
     "name": "stderr",
     "output_type": "stream",
     "text": [
      "0.0s - loss: 0.061: 100%|██████████| 45000/45000 [07:22<00:00, 101.78it/s]\n",
      "  0%|          | 0/45000 [00:00<?, ?it/s]"
     ]
    },
    {
     "name": "stdout",
     "output_type": "stream",
     "text": [
      "train loss: 0.096 - val acc: 87.500\n",
      "\n",
      "Epoch: 84/100\n"
     ]
    },
    {
     "name": "stderr",
     "output_type": "stream",
     "text": [
      "0.0s - loss: 0.030: 100%|██████████| 45000/45000 [07:22<00:00, 101.60it/s]\n",
      "  0%|          | 0/45000 [00:00<?, ?it/s]"
     ]
    },
    {
     "name": "stdout",
     "output_type": "stream",
     "text": [
      "train loss: 0.100 - val acc: 87.188\n",
      "\n",
      "Epoch: 85/100\n"
     ]
    },
    {
     "name": "stderr",
     "output_type": "stream",
     "text": [
      "0.0s - loss: 0.158: 100%|██████████| 45000/45000 [07:21<00:00, 101.88it/s]\n",
      "  0%|          | 0/45000 [00:00<?, ?it/s]"
     ]
    },
    {
     "name": "stdout",
     "output_type": "stream",
     "text": [
      "train loss: 0.098 - val acc: 88.750\n",
      "\n",
      "Epoch: 86/100\n"
     ]
    },
    {
     "name": "stderr",
     "output_type": "stream",
     "text": [
      "0.0s - loss: 0.044: 100%|██████████| 45000/45000 [07:22<00:00, 101.63it/s]\n",
      "  0%|          | 0/45000 [00:00<?, ?it/s]"
     ]
    },
    {
     "name": "stdout",
     "output_type": "stream",
     "text": [
      "train loss: 0.099 - val acc: 87.500\n",
      "\n",
      "Epoch: 87/100\n"
     ]
    },
    {
     "name": "stderr",
     "output_type": "stream",
     "text": [
      "0.0s - loss: 0.002: 100%|██████████| 45000/45000 [07:23<00:00, 101.56it/s]\n",
      "  0%|          | 0/45000 [00:00<?, ?it/s]"
     ]
    },
    {
     "name": "stdout",
     "output_type": "stream",
     "text": [
      "train loss: 0.093 - val acc: 86.250\n",
      "\n",
      "Epoch: 88/100\n"
     ]
    },
    {
     "name": "stderr",
     "output_type": "stream",
     "text": [
      "0.0s - loss: 0.046: 100%|██████████| 45000/45000 [07:25<00:00, 101.06it/s]\n",
      "  0%|          | 0/45000 [00:00<?, ?it/s]"
     ]
    },
    {
     "name": "stdout",
     "output_type": "stream",
     "text": [
      "train loss: 0.096 - val acc: 87.188\n",
      "\n",
      "Epoch: 89/100\n"
     ]
    },
    {
     "name": "stderr",
     "output_type": "stream",
     "text": [
      "0.0s - loss: 0.112: 100%|██████████| 45000/45000 [07:22<00:00, 101.72it/s]\n",
      "  0%|          | 0/45000 [00:00<?, ?it/s]"
     ]
    },
    {
     "name": "stdout",
     "output_type": "stream",
     "text": [
      "train loss: 0.094 - val acc: 86.562\n",
      "\n",
      "Epoch: 90/100\n"
     ]
    },
    {
     "name": "stderr",
     "output_type": "stream",
     "text": [
      "0.0s - loss: 0.100: 100%|██████████| 45000/45000 [07:22<00:00, 101.70it/s]\n",
      "  0%|          | 0/45000 [00:00<?, ?it/s]"
     ]
    },
    {
     "name": "stdout",
     "output_type": "stream",
     "text": [
      "train loss: 0.098 - val acc: 88.438\n",
      "\n",
      "Epoch: 91/100\n"
     ]
    },
    {
     "name": "stderr",
     "output_type": "stream",
     "text": [
      "0.0s - loss: 0.209: 100%|██████████| 45000/45000 [07:22<00:00, 101.62it/s]\n",
      "  0%|          | 0/45000 [00:00<?, ?it/s]"
     ]
    },
    {
     "name": "stdout",
     "output_type": "stream",
     "text": [
      "train loss: 0.094 - val acc: 88.438\n",
      "\n",
      "Epoch: 92/100\n"
     ]
    },
    {
     "name": "stderr",
     "output_type": "stream",
     "text": [
      "0.0s - loss: 0.044: 100%|██████████| 45000/45000 [07:22<00:00, 101.69it/s]\n",
      "  0%|          | 0/45000 [00:00<?, ?it/s]"
     ]
    },
    {
     "name": "stdout",
     "output_type": "stream",
     "text": [
      "train loss: 0.095 - val acc: 90.000\n",
      "\n",
      "Epoch: 93/100\n"
     ]
    },
    {
     "name": "stderr",
     "output_type": "stream",
     "text": [
      "0.0s - loss: 0.015: 100%|██████████| 45000/45000 [07:22<00:00, 101.68it/s]\n",
      "  0%|          | 0/45000 [00:00<?, ?it/s]"
     ]
    },
    {
     "name": "stdout",
     "output_type": "stream",
     "text": [
      "train loss: 0.095 - val acc: 89.375\n",
      "\n",
      "Epoch: 94/100\n"
     ]
    },
    {
     "name": "stderr",
     "output_type": "stream",
     "text": [
      "0.0s - loss: 0.111: 100%|██████████| 45000/45000 [07:22<00:00, 101.78it/s]\n"
     ]
    },
    {
     "name": "stdout",
     "output_type": "stream",
     "text": [
      "train loss: 0.095 - val acc: 86.250\n",
      "[!] No improvement in a while, stopping training.\n"
     ]
    }
   ],
   "source": [
    "trainer = Trainer(config, data_loader, layer_hyperparams)\n",
    "\n",
    "trainer.train()"
   ]
  },
  {
   "cell_type": "markdown",
   "metadata": {},
   "source": [
    "# Train with data augmentation and Batch Normalization"
   ]
  },
  {
   "cell_type": "code",
   "execution_count": 8,
   "metadata": {},
   "outputs": [
    {
     "name": "stdout",
     "output_type": "stream",
     "text": [
      "valid_trials : 320\n",
      "test_trials : 400\n",
      "way : 20\n",
      "num_train : 45000\n",
      "batch_size : 64\n",
      "num_workers : 6\n",
      "shuffle : True\n",
      "augment : True\n",
      "is_train : True\n",
      "get_embedding : False\n",
      "n_embeddings : 1000\n",
      "alphabet : Mongolian\n",
      "epochs : 100\n",
      "init_momentum : 0.5\n",
      "lr_patience : 1\n",
      "train_patience : 20\n",
      "use_batch_norm : True\n",
      "flush : False\n",
      "num_model : 4\n",
      "use_gpu : False\n",
      "best : True\n",
      "random_seed : 1\n",
      "data_dir : ../../01_data_preparation/omniglot/data/changed\n",
      "ckpt_dir : C:\\Users\\bruno.silva\\Desktop\\final-project-deeplearning\\02_training\\siamese_networks/ckpt/\n",
      "logs_dir : C:\\Users\\bruno.silva\\Desktop\\final-project-deeplearning\\02_training\\siamese_networks/logs/\n",
      "resume : False\n"
     ]
    }
   ],
   "source": [
    "config, unparsed = get_config()\n",
    "\n",
    "config.num_train = 45000\n",
    "config.batch_size = 64\n",
    "config.epochs = 100\n",
    "config.num_model = 4\n",
    "config.augment = True\n",
    "config.use_gpu = False\n",
    "config.num_workers = 6\n",
    "config.use_batch_norm = True\n",
    "config.data_dir = '../../01_data_preparation/omniglot/data/changed'\n",
    "config.ckpt_dir = root_dir + '/ckpt/'\n",
    "config.logs_dir = root_dir + '/logs/'\n",
    "\n",
    "# ensure directories are setup\n",
    "prepare_dirs(config)\n",
    "\n",
    "config.print_values()"
   ]
  },
  {
   "cell_type": "code",
   "execution_count": 9,
   "metadata": {},
   "outputs": [
    {
     "name": "stdout",
     "output_type": "stream",
     "text": [
      "[*] Sampling layer hyperparameters.\n",
      "Warning: Overrinding experiment...\n",
      "[*] Model Checkpoint Dir: C:\\Users\\bruno.silva\\Desktop\\final-project-deeplearning\\02_training\\siamese_networks/ckpt/exp_4\n",
      "[*] Param Path: C:\\Users\\bruno.silva\\Desktop\\final-project-deeplearning\\02_training\\siamese_networks/ckpt/exp_4\\params.json\n"
     ]
    }
   ],
   "source": [
    "# create Omniglot data loaders\n",
    "torch.manual_seed(config.random_seed)\n",
    "kwargs = {}\n",
    "if config.use_gpu:\n",
    "    torch.cuda.manual_seed(config.random_seed)\n",
    "    kwargs = {'num_workers': 1, 'pin_memory': True}\n",
    "if config.is_train:\n",
    "    data_loader = get_train_valid_loader(\n",
    "        config.data_dir, config.batch_size,\n",
    "        config.num_train, config.augment,\n",
    "        config.way, config.valid_trials,\n",
    "        config.shuffle, config.random_seed,\n",
    "        **kwargs\n",
    "    )\n",
    "else:\n",
    "    data_loader = get_test_loader(\n",
    "        config.data_dir, config.way,\n",
    "        config.test_trials, config.random_seed,\n",
    "        **kwargs\n",
    "    )\n",
    "\n",
    "# sample 3 layer wise hyperparams if first time training\n",
    "if config.is_train and not config.resume:\n",
    "    print(\"[*] Sampling layer hyperparameters.\")\n",
    "\n",
    "    layer_hyperparams = {\n",
    "        'layer_init_lrs': [],\n",
    "        'layer_end_momentums': [],\n",
    "        'layer_l2_regs': []\n",
    "    }\n",
    "    for i in range(6):\n",
    "        # sample\n",
    "        lr = random.uniform(1e-4, 1e-1)\n",
    "        mom = random.uniform(0, 1)\n",
    "        reg = random.uniform(0, 0.1)\n",
    "\n",
    "        # store\n",
    "        layer_hyperparams['layer_init_lrs'].append(lr)\n",
    "        layer_hyperparams['layer_end_momentums'].append(mom)\n",
    "        layer_hyperparams['layer_l2_regs'].append(reg)\n",
    "    try:\n",
    "        save_config(config, layer_hyperparams, override=True)\n",
    "    except ValueError:\n",
    "        print(\n",
    "            \"[!] Samples already exist. Either change the model number,\",\n",
    "            \"or delete the json file and rerun.\",\n",
    "            sep=' '\n",
    "        )\n",
    "        raise\n",
    "# else load it from config file\n",
    "else:\n",
    "    try:\n",
    "        layer_hyperparams = load_config(config)\n",
    "    except FileNotFoundError:\n",
    "        print(\"[!] No previously saved config. Set resume to False.\")\n",
    "        raise"
   ]
  },
  {
   "cell_type": "code",
   "execution_count": null,
   "metadata": {},
   "outputs": [
    {
     "name": "stderr",
     "output_type": "stream",
     "text": [
      "  0%|          | 0/45000 [00:00<?, ?it/s]"
     ]
    },
    {
     "name": "stdout",
     "output_type": "stream",
     "text": [
      "[*] Number of model parameters: 1,256,945\n",
      "\n",
      "[*] Train on 45000 sample pairs, validate on 320 trials\n",
      "\n",
      "Epoch: 1/100\n"
     ]
    },
    {
     "name": "stderr",
     "output_type": "stream",
     "text": [
      "0.2s - loss: 0.695: 100%|██████████| 45000/45000 [12:39<00:00, 59.24it/s]\n",
      "C:\\Users\\bruno.silva\\Desktop\\final-project-deeplearning\\02_training\\siamese_networks\\trainer.py:258: UserWarning: volatile was removed and now has no effect. Use `with torch.no_grad():` instead.\n",
      "  x1, x2 = Variable(x1, volatile=True), Variable(x2, volatile=True)\n",
      "  0%|          | 0/45000 [00:00<?, ?it/s]"
     ]
    },
    {
     "name": "stdout",
     "output_type": "stream",
     "text": [
      "train loss: 0.568 - val acc: 24.375 [*]\n",
      "\n",
      "Epoch: 2/100\n"
     ]
    },
    {
     "name": "stderr",
     "output_type": "stream",
     "text": [
      "0.2s - loss: 0.349: 100%|██████████| 45000/45000 [11:58<00:00, 62.64it/s]\n",
      "  0%|          | 0/45000 [00:00<?, ?it/s]"
     ]
    },
    {
     "name": "stdout",
     "output_type": "stream",
     "text": [
      "train loss: 0.492 - val acc: 31.875 [*]\n",
      "\n",
      "Epoch: 3/100\n"
     ]
    },
    {
     "name": "stderr",
     "output_type": "stream",
     "text": [
      "0.2s - loss: 0.326: 100%|██████████| 45000/45000 [12:03<00:00, 62.24it/s]\n",
      "  0%|          | 0/45000 [00:00<?, ?it/s]"
     ]
    },
    {
     "name": "stdout",
     "output_type": "stream",
     "text": [
      "train loss: 0.413 - val acc: 38.750 [*]\n",
      "\n",
      "Epoch: 4/100\n"
     ]
    },
    {
     "name": "stderr",
     "output_type": "stream",
     "text": [
      "0.2s - loss: 0.291: 100%|██████████| 45000/45000 [12:42<00:00, 58.98it/s]\n",
      "  0%|          | 0/45000 [00:00<?, ?it/s]"
     ]
    },
    {
     "name": "stdout",
     "output_type": "stream",
     "text": [
      "train loss: 0.369 - val acc: 35.312\n",
      "\n",
      "Epoch: 5/100\n"
     ]
    },
    {
     "name": "stderr",
     "output_type": "stream",
     "text": [
      "0.2s - loss: 0.466: 100%|██████████| 45000/45000 [12:40<00:00, 59.21it/s]\n",
      "  0%|          | 0/45000 [00:00<?, ?it/s]"
     ]
    },
    {
     "name": "stdout",
     "output_type": "stream",
     "text": [
      "train loss: 0.337 - val acc: 50.312 [*]\n",
      "\n",
      "Epoch: 6/100\n"
     ]
    },
    {
     "name": "stderr",
     "output_type": "stream",
     "text": [
      "0.2s - loss: 0.303: 100%|██████████| 45000/45000 [12:37<00:00, 59.45it/s]\n",
      "  0%|          | 0/45000 [00:00<?, ?it/s]"
     ]
    },
    {
     "name": "stdout",
     "output_type": "stream",
     "text": [
      "train loss: 0.296 - val acc: 53.750 [*]\n",
      "\n",
      "Epoch: 7/100\n"
     ]
    },
    {
     "name": "stderr",
     "output_type": "stream",
     "text": [
      "0.2s - loss: 0.067: 100%|██████████| 45000/45000 [12:47<00:00, 58.61it/s]\n",
      "  0%|          | 0/45000 [00:00<?, ?it/s]"
     ]
    },
    {
     "name": "stdout",
     "output_type": "stream",
     "text": [
      "train loss: 0.270 - val acc: 58.438 [*]\n",
      "\n",
      "Epoch: 8/100\n"
     ]
    },
    {
     "name": "stderr",
     "output_type": "stream",
     "text": [
      "0.2s - loss: 0.481: 100%|██████████| 45000/45000 [13:18<00:00, 56.37it/s]\n",
      "  0%|          | 0/45000 [00:00<?, ?it/s]"
     ]
    },
    {
     "name": "stdout",
     "output_type": "stream",
     "text": [
      "train loss: 0.243 - val acc: 63.438 [*]\n",
      "\n",
      "Epoch: 9/100\n"
     ]
    },
    {
     "name": "stderr",
     "output_type": "stream",
     "text": [
      "0.2s - loss: 0.105: 100%|██████████| 45000/45000 [12:37<00:00, 59.44it/s]\n",
      "  0%|          | 0/45000 [00:00<?, ?it/s]"
     ]
    },
    {
     "name": "stdout",
     "output_type": "stream",
     "text": [
      "train loss: 0.227 - val acc: 63.125\n",
      "\n",
      "Epoch: 10/100\n"
     ]
    },
    {
     "name": "stderr",
     "output_type": "stream",
     "text": [
      "0.2s - loss: 0.227: 100%|██████████| 45000/45000 [12:43<00:00, 58.92it/s]\n",
      "  0%|          | 0/45000 [00:00<?, ?it/s]"
     ]
    },
    {
     "name": "stdout",
     "output_type": "stream",
     "text": [
      "train loss: 0.212 - val acc: 60.938\n",
      "\n",
      "Epoch: 11/100\n"
     ]
    },
    {
     "name": "stderr",
     "output_type": "stream",
     "text": [
      "0.2s - loss: 0.236: 100%|██████████| 45000/45000 [12:39<00:00, 59.27it/s]\n",
      "  0%|          | 0/45000 [00:00<?, ?it/s]"
     ]
    },
    {
     "name": "stdout",
     "output_type": "stream",
     "text": [
      "train loss: 0.203 - val acc: 70.312 [*]\n",
      "\n",
      "Epoch: 12/100\n"
     ]
    },
    {
     "name": "stderr",
     "output_type": "stream",
     "text": [
      "0.2s - loss: 0.230: 100%|██████████| 45000/45000 [12:44<00:00, 58.84it/s]\n",
      "  0%|          | 0/45000 [00:00<?, ?it/s]"
     ]
    },
    {
     "name": "stdout",
     "output_type": "stream",
     "text": [
      "train loss: 0.195 - val acc: 66.250\n",
      "\n",
      "Epoch: 13/100\n"
     ]
    },
    {
     "name": "stderr",
     "output_type": "stream",
     "text": [
      "0.2s - loss: 0.258: 100%|██████████| 45000/45000 [12:39<00:00, 59.27it/s]\n",
      "  0%|          | 0/45000 [00:00<?, ?it/s]"
     ]
    },
    {
     "name": "stdout",
     "output_type": "stream",
     "text": [
      "train loss: 0.185 - val acc: 69.062\n",
      "\n",
      "Epoch: 14/100\n"
     ]
    },
    {
     "name": "stderr",
     "output_type": "stream",
     "text": [
      "0.2s - loss: 0.010: 100%|██████████| 45000/45000 [12:40<00:00, 59.15it/s]\n",
      "  0%|          | 0/45000 [00:00<?, ?it/s]"
     ]
    },
    {
     "name": "stdout",
     "output_type": "stream",
     "text": [
      "train loss: 0.176 - val acc: 68.438\n",
      "\n",
      "Epoch: 15/100\n"
     ]
    },
    {
     "name": "stderr",
     "output_type": "stream",
     "text": [
      "0.2s - loss: 0.217: 100%|██████████| 45000/45000 [12:31<00:00, 59.85it/s]\n",
      "  0%|          | 0/45000 [00:00<?, ?it/s]"
     ]
    },
    {
     "name": "stdout",
     "output_type": "stream",
     "text": [
      "train loss: 0.168 - val acc: 70.625 [*]\n",
      "\n",
      "Epoch: 16/100\n"
     ]
    },
    {
     "name": "stderr",
     "output_type": "stream",
     "text": [
      "0.2s - loss: 0.070: 100%|██████████| 45000/45000 [12:44<00:00, 58.88it/s]\n",
      "  0%|          | 0/45000 [00:00<?, ?it/s]"
     ]
    },
    {
     "name": "stdout",
     "output_type": "stream",
     "text": [
      "train loss: 0.161 - val acc: 74.375 [*]\n",
      "\n",
      "Epoch: 17/100\n"
     ]
    },
    {
     "name": "stderr",
     "output_type": "stream",
     "text": [
      "0.2s - loss: 0.036: 100%|██████████| 45000/45000 [12:46<00:00, 58.73it/s]\n",
      "  0%|          | 0/45000 [00:00<?, ?it/s]"
     ]
    },
    {
     "name": "stdout",
     "output_type": "stream",
     "text": [
      "train loss: 0.158 - val acc: 76.250 [*]\n",
      "\n",
      "Epoch: 18/100\n"
     ]
    },
    {
     "name": "stderr",
     "output_type": "stream",
     "text": [
      "0.2s - loss: 0.111: 100%|██████████| 45000/45000 [12:43<00:00, 58.96it/s]\n",
      "  0%|          | 0/45000 [00:00<?, ?it/s]"
     ]
    },
    {
     "name": "stdout",
     "output_type": "stream",
     "text": [
      "train loss: 0.154 - val acc: 72.812\n",
      "\n",
      "Epoch: 19/100\n"
     ]
    },
    {
     "name": "stderr",
     "output_type": "stream",
     "text": [
      "0.2s - loss: 0.043: 100%|██████████| 45000/45000 [12:59<00:00, 57.71it/s]\n",
      "  0%|          | 0/45000 [00:00<?, ?it/s]"
     ]
    },
    {
     "name": "stdout",
     "output_type": "stream",
     "text": [
      "train loss: 0.147 - val acc: 77.188 [*]\n",
      "\n",
      "Epoch: 20/100\n"
     ]
    },
    {
     "name": "stderr",
     "output_type": "stream",
     "text": [
      "0.2s - loss: 0.152: 100%|██████████| 45000/45000 [12:43<00:00, 58.90it/s]\n",
      "  0%|          | 0/45000 [00:00<?, ?it/s]"
     ]
    },
    {
     "name": "stdout",
     "output_type": "stream",
     "text": [
      "train loss: 0.145 - val acc: 74.688\n",
      "\n",
      "Epoch: 21/100\n"
     ]
    },
    {
     "name": "stderr",
     "output_type": "stream",
     "text": [
      "0.2s - loss: 0.096: 100%|██████████| 45000/45000 [12:57<00:00, 57.86it/s]\n",
      "  0%|          | 0/45000 [00:00<?, ?it/s]"
     ]
    },
    {
     "name": "stdout",
     "output_type": "stream",
     "text": [
      "train loss: 0.140 - val acc: 79.688 [*]\n",
      "\n",
      "Epoch: 22/100\n"
     ]
    },
    {
     "name": "stderr",
     "output_type": "stream",
     "text": [
      "0.2s - loss: 0.143: 100%|██████████| 45000/45000 [12:50<00:00, 58.43it/s]\n",
      "  0%|          | 0/45000 [00:00<?, ?it/s]"
     ]
    },
    {
     "name": "stdout",
     "output_type": "stream",
     "text": [
      "train loss: 0.140 - val acc: 81.250 [*]\n",
      "\n",
      "Epoch: 23/100\n"
     ]
    },
    {
     "name": "stderr",
     "output_type": "stream",
     "text": [
      "0.2s - loss: 0.027: 100%|██████████| 45000/45000 [13:00<00:00, 57.68it/s]\n",
      "  0%|          | 0/45000 [00:00<?, ?it/s]"
     ]
    },
    {
     "name": "stdout",
     "output_type": "stream",
     "text": [
      "train loss: 0.131 - val acc: 80.000\n",
      "\n",
      "Epoch: 24/100\n"
     ]
    },
    {
     "name": "stderr",
     "output_type": "stream",
     "text": [
      "0.2s - loss: 0.079: 100%|██████████| 45000/45000 [12:57<00:00, 57.89it/s]\n",
      "  0%|          | 0/45000 [00:00<?, ?it/s]"
     ]
    },
    {
     "name": "stdout",
     "output_type": "stream",
     "text": [
      "train loss: 0.123 - val acc: 79.062\n",
      "\n",
      "Epoch: 25/100\n"
     ]
    },
    {
     "name": "stderr",
     "output_type": "stream",
     "text": [
      "0.2s - loss: 0.008: 100%|██████████| 45000/45000 [13:00<00:00, 57.63it/s]\n",
      "  0%|          | 0/45000 [00:00<?, ?it/s]"
     ]
    },
    {
     "name": "stdout",
     "output_type": "stream",
     "text": [
      "train loss: 0.123 - val acc: 79.062\n",
      "\n",
      "Epoch: 26/100\n"
     ]
    },
    {
     "name": "stderr",
     "output_type": "stream",
     "text": [
      "0.2s - loss: 0.054: 100%|██████████| 45000/45000 [13:39<00:00, 54.88it/s]\n",
      "  0%|          | 0/45000 [00:00<?, ?it/s]"
     ]
    },
    {
     "name": "stdout",
     "output_type": "stream",
     "text": [
      "train loss: 0.119 - val acc: 82.188 [*]\n",
      "\n",
      "Epoch: 27/100\n"
     ]
    },
    {
     "name": "stderr",
     "output_type": "stream",
     "text": [
      "0.2s - loss: 0.053: 100%|██████████| 45000/45000 [14:59<00:00, 50.00it/s]\n",
      "  0%|          | 0/45000 [00:00<?, ?it/s]"
     ]
    },
    {
     "name": "stdout",
     "output_type": "stream",
     "text": [
      "train loss: 0.118 - val acc: 80.625\n",
      "\n",
      "Epoch: 28/100\n"
     ]
    },
    {
     "name": "stderr",
     "output_type": "stream",
     "text": [
      "0.2s - loss: 0.105: 100%|██████████| 45000/45000 [16:26<00:00, 45.62it/s]\n",
      "  0%|          | 0/45000 [00:00<?, ?it/s]"
     ]
    },
    {
     "name": "stdout",
     "output_type": "stream",
     "text": [
      "train loss: 0.115 - val acc: 84.375 [*]\n",
      "\n",
      "Epoch: 29/100\n"
     ]
    },
    {
     "name": "stderr",
     "output_type": "stream",
     "text": [
      "0.2s - loss: 0.042: 100%|██████████| 45000/45000 [15:24<00:00, 48.67it/s]\n",
      "  0%|          | 0/45000 [00:00<?, ?it/s]"
     ]
    },
    {
     "name": "stdout",
     "output_type": "stream",
     "text": [
      "train loss: 0.111 - val acc: 81.875\n",
      "\n",
      "Epoch: 30/100\n"
     ]
    },
    {
     "name": "stderr",
     "output_type": "stream",
     "text": [
      "0.2s - loss: 0.034: 100%|██████████| 45000/45000 [15:23<00:00, 48.73it/s]\n",
      "  0%|          | 0/45000 [00:00<?, ?it/s]"
     ]
    },
    {
     "name": "stdout",
     "output_type": "stream",
     "text": [
      "train loss: 0.110 - val acc: 83.438\n",
      "\n",
      "Epoch: 31/100\n"
     ]
    },
    {
     "name": "stderr",
     "output_type": "stream",
     "text": [
      "0.2s - loss: 0.287: 100%|██████████| 45000/45000 [15:33<00:00, 48.19it/s]\n",
      "  0%|          | 0/45000 [00:00<?, ?it/s]"
     ]
    },
    {
     "name": "stdout",
     "output_type": "stream",
     "text": [
      "train loss: 0.108 - val acc: 85.312 [*]\n",
      "\n",
      "Epoch: 32/100\n"
     ]
    },
    {
     "name": "stderr",
     "output_type": "stream",
     "text": [
      "0.2s - loss: 0.397: 100%|██████████| 45000/45000 [16:53<00:00, 44.39it/s]\n",
      "  0%|          | 0/45000 [00:00<?, ?it/s]"
     ]
    },
    {
     "name": "stdout",
     "output_type": "stream",
     "text": [
      "train loss: 0.108 - val acc: 85.938 [*]\n",
      "\n",
      "Epoch: 33/100\n"
     ]
    },
    {
     "name": "stderr",
     "output_type": "stream",
     "text": [
      "0.3s - loss: 0.413: 100%|██████████| 45000/45000 [18:38<00:00, 40.22it/s]\n",
      "  0%|          | 0/45000 [00:00<?, ?it/s]"
     ]
    },
    {
     "name": "stdout",
     "output_type": "stream",
     "text": [
      "train loss: 0.105 - val acc: 84.062\n",
      "\n",
      "Epoch: 34/100\n"
     ]
    },
    {
     "name": "stderr",
     "output_type": "stream",
     "text": [
      "0.3s - loss: 0.072: 100%|██████████| 45000/45000 [23:50<00:00, 31.46it/s]\n",
      "  0%|          | 0/45000 [00:00<?, ?it/s]"
     ]
    },
    {
     "name": "stdout",
     "output_type": "stream",
     "text": [
      "train loss: 0.104 - val acc: 83.438\n",
      "\n",
      "Epoch: 35/100\n"
     ]
    },
    {
     "name": "stderr",
     "output_type": "stream",
     "text": [
      "0.3s - loss: 0.286: 100%|██████████| 45000/45000 [26:14<00:00, 28.57it/s]\n",
      "  0%|          | 0/45000 [00:00<?, ?it/s]"
     ]
    },
    {
     "name": "stdout",
     "output_type": "stream",
     "text": [
      "train loss: 0.101 - val acc: 85.000\n",
      "\n",
      "Epoch: 36/100\n"
     ]
    },
    {
     "name": "stderr",
     "output_type": "stream",
     "text": [
      "0.3s - loss: 0.042: 100%|██████████| 45000/45000 [27:19<00:00, 27.45it/s]\n",
      "  0%|          | 0/45000 [00:00<?, ?it/s]"
     ]
    },
    {
     "name": "stdout",
     "output_type": "stream",
     "text": [
      "train loss: 0.100 - val acc: 85.000\n",
      "\n",
      "Epoch: 37/100\n"
     ]
    },
    {
     "name": "stderr",
     "output_type": "stream",
     "text": [
      "0.5s - loss: 0.018: 100%|██████████| 45000/45000 [36:08<00:00, 20.76it/s]\n",
      "  0%|          | 0/45000 [00:00<?, ?it/s]"
     ]
    },
    {
     "name": "stdout",
     "output_type": "stream",
     "text": [
      "train loss: 0.095 - val acc: 84.062\n",
      "\n",
      "Epoch: 38/100\n"
     ]
    },
    {
     "name": "stderr",
     "output_type": "stream",
     "text": [
      "0.5s - loss: 0.196: 100%|██████████| 45000/45000 [39:53<00:00, 18.80it/s]\n",
      "  0%|          | 0/45000 [00:00<?, ?it/s]"
     ]
    },
    {
     "name": "stdout",
     "output_type": "stream",
     "text": [
      "train loss: 0.098 - val acc: 87.812 [*]\n",
      "\n",
      "Epoch: 39/100\n"
     ]
    },
    {
     "name": "stderr",
     "output_type": "stream",
     "text": [
      "0.5s - loss: 0.039: 100%|██████████| 45000/45000 [38:00<00:00, 19.73it/s]\n",
      "  0%|          | 0/45000 [00:00<?, ?it/s]"
     ]
    },
    {
     "name": "stdout",
     "output_type": "stream",
     "text": [
      "train loss: 0.095 - val acc: 83.125\n",
      "\n",
      "Epoch: 40/100\n"
     ]
    },
    {
     "name": "stderr",
     "output_type": "stream",
     "text": [
      "0.5s - loss: 0.034: 100%|██████████| 45000/45000 [40:00<00:00, 18.75it/s]\n",
      "  0%|          | 0/45000 [00:00<?, ?it/s]"
     ]
    },
    {
     "name": "stdout",
     "output_type": "stream",
     "text": [
      "train loss: 0.092 - val acc: 86.250\n",
      "\n",
      "Epoch: 41/100\n"
     ]
    },
    {
     "name": "stderr",
     "output_type": "stream",
     "text": [
      "0.5s - loss: 0.115: 100%|██████████| 45000/45000 [41:43<00:00, 17.97it/s]\n",
      "  0%|          | 0/45000 [00:00<?, ?it/s]"
     ]
    },
    {
     "name": "stdout",
     "output_type": "stream",
     "text": [
      "train loss: 0.090 - val acc: 83.750\n",
      "\n",
      "Epoch: 42/100\n"
     ]
    },
    {
     "name": "stderr",
     "output_type": "stream",
     "text": [
      "0.7s - loss: 0.046: 100%|██████████| 45000/45000 [44:49<00:00, 16.73it/s]\n",
      "  0%|          | 0/45000 [00:00<?, ?it/s]"
     ]
    },
    {
     "name": "stdout",
     "output_type": "stream",
     "text": [
      "train loss: 0.093 - val acc: 83.750\n",
      "\n",
      "Epoch: 43/100\n"
     ]
    },
    {
     "name": "stderr",
     "output_type": "stream",
     "text": [
      "0.6s - loss: 0.208: 100%|██████████| 45000/45000 [43:37<00:00, 17.19it/s]\n",
      "  0%|          | 0/45000 [00:00<?, ?it/s]"
     ]
    },
    {
     "name": "stdout",
     "output_type": "stream",
     "text": [
      "train loss: 0.087 - val acc: 85.312\n",
      "\n",
      "Epoch: 44/100\n"
     ]
    },
    {
     "name": "stderr",
     "output_type": "stream",
     "text": [
      "0.5s - loss: 0.031: 100%|██████████| 45000/45000 [43:52<00:00, 17.09it/s]\n",
      "  0%|          | 0/45000 [00:00<?, ?it/s]"
     ]
    },
    {
     "name": "stdout",
     "output_type": "stream",
     "text": [
      "train loss: 0.090 - val acc: 87.812\n",
      "\n",
      "Epoch: 45/100\n"
     ]
    },
    {
     "name": "stderr",
     "output_type": "stream",
     "text": [
      "0.6s - loss: 0.093: 100%|██████████| 45000/45000 [43:16<00:00, 17.33it/s]\n",
      "  0%|          | 0/45000 [00:00<?, ?it/s]"
     ]
    },
    {
     "name": "stdout",
     "output_type": "stream",
     "text": [
      "train loss: 0.088 - val acc: 83.750\n",
      "\n",
      "Epoch: 46/100\n"
     ]
    },
    {
     "name": "stderr",
     "output_type": "stream",
     "text": [
      "0.5s - loss: 0.014: 100%|██████████| 45000/45000 [43:18<00:00, 17.31it/s]\n",
      "  0%|          | 0/45000 [00:00<?, ?it/s]"
     ]
    },
    {
     "name": "stdout",
     "output_type": "stream",
     "text": [
      "train loss: 0.087 - val acc: 86.875\n",
      "\n",
      "Epoch: 47/100\n"
     ]
    },
    {
     "name": "stderr",
     "output_type": "stream",
     "text": [
      "0.6s - loss: 0.157: 100%|██████████| 45000/45000 [42:42<00:00, 17.56it/s]\n",
      "  0%|          | 0/45000 [00:00<?, ?it/s]"
     ]
    },
    {
     "name": "stdout",
     "output_type": "stream",
     "text": [
      "train loss: 0.084 - val acc: 87.188\n",
      "\n",
      "Epoch: 48/100\n"
     ]
    },
    {
     "name": "stderr",
     "output_type": "stream",
     "text": [
      "0.5s - loss: 0.024: 100%|██████████| 45000/45000 [41:35<00:00, 18.03it/s]\n",
      "  0%|          | 0/45000 [00:00<?, ?it/s]"
     ]
    },
    {
     "name": "stdout",
     "output_type": "stream",
     "text": [
      "train loss: 0.084 - val acc: 86.875\n",
      "\n",
      "Epoch: 49/100\n"
     ]
    },
    {
     "name": "stderr",
     "output_type": "stream",
     "text": [
      "3.6s - loss: 0.059:  79%|███████▉  | 35456/45000 [35:32<08:35, 18.51it/s]"
     ]
    }
   ],
   "source": [
    "trainer = Trainer(config, data_loader, layer_hyperparams)\n",
    "\n",
    "trainer.train()"
   ]
  },
  {
   "cell_type": "code",
   "execution_count": null,
   "metadata": {},
   "outputs": [],
   "source": []
  }
 ],
 "metadata": {
  "kernelspec": {
   "display_name": "Python 3",
   "language": "python",
   "name": "python3"
  },
  "language_info": {
   "codemirror_mode": {
    "name": "ipython",
    "version": 3
   },
   "file_extension": ".py",
   "mimetype": "text/x-python",
   "name": "python",
   "nbconvert_exporter": "python",
   "pygments_lexer": "ipython3",
   "version": "3.8.5"
  }
 },
 "nbformat": 4,
 "nbformat_minor": 4
}
