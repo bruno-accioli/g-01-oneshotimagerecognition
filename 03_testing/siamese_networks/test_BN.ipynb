{
 "cells": [
  {
   "cell_type": "code",
   "execution_count": 1,
   "metadata": {},
   "outputs": [],
   "source": [
    "import os\n",
    "import sys\n",
    "import torch\n",
    "from torchsummary import summary\n",
    "import random\n",
    "\n",
    "sys.path.append('../../shared_libraries')\n",
    "sys.path.append('../../02_training/siamese_networks')\n",
    "from trainer import Trainer\n",
    "from config import get_config\n",
    "from utils import prepare_dirs, save_config, load_config\n",
    "from data_loader import get_train_valid_loader, get_test_loader\n",
    "\n",
    "root_dir = os.getcwd()"
   ]
  },
  {
   "cell_type": "markdown",
   "metadata": {},
   "source": [
    "# Load configuration"
   ]
  },
  {
   "cell_type": "code",
   "execution_count": 3,
   "metadata": {},
   "outputs": [
    {
     "name": "stdout",
     "output_type": "stream",
     "text": [
      "valid_trials : 320\n",
      "test_trials : 400\n",
      "way : 20\n",
      "num_train : 90000\n",
      "batch_size : 64\n",
      "num_workers : 1\n",
      "shuffle : True\n",
      "augment : True\n",
      "is_train : False\n",
      "get_embedding : False\n",
      "n_embeddings : 1000\n",
      "alphabet : Mongolian\n",
      "epochs : 200\n",
      "init_momentum : 0.5\n",
      "lr_patience : 1\n",
      "train_patience : 20\n",
      "use_batch_norm : True\n",
      "flush : False\n",
      "num_model : 4\n",
      "use_gpu : False\n",
      "best : True\n",
      "random_seed : 1\n",
      "data_dir : ../../01_data_preparation/omniglot/data/changed\n",
      "ckpt_dir : ../../02_training/siamese_networks/ckpt/\n",
      "logs_dir : ../../02_training/siamese_networks/logs/\n",
      "resume : False\n"
     ]
    }
   ],
   "source": [
    "config, unparsed = get_config()\n",
    "\n",
    "\n",
    "config.num_model = 4\n",
    "config.batch_size = 64\n",
    "config.is_train = False\n",
    "config.use_gpu = False\n",
    "config.use_batch_norm = True\n",
    "config.data_dir = '../../01_data_preparation/omniglot/data/changed'\n",
    "config.ckpt_dir = '../../02_training/siamese_networks/ckpt/'\n",
    "config.logs_dir = '../../02_training/siamese_networks/logs/'\n",
    "\n",
    "# ensure directories are setup\n",
    "prepare_dirs(config)\n",
    "\n",
    "config.print_values()"
   ]
  },
  {
   "cell_type": "markdown",
   "metadata": {},
   "source": [
    "# Configure testing"
   ]
  },
  {
   "cell_type": "code",
   "execution_count": 4,
   "metadata": {},
   "outputs": [
    {
     "name": "stdout",
     "output_type": "stream",
     "text": [
      "[*] Loaded layer hyperparameters.\n"
     ]
    }
   ],
   "source": [
    "# create Omniglot data loaders\n",
    "torch.manual_seed(config.random_seed)\n",
    "kwargs = {}\n",
    "if config.use_gpu:\n",
    "    torch.cuda.manual_seed(config.random_seed)\n",
    "    kwargs = {'num_workers': 1, 'pin_memory': True}\n",
    "if config.is_train:\n",
    "    data_loader = get_train_valid_loader(\n",
    "        config.data_dir, config.batch_size,\n",
    "        config.num_train, config.augment,\n",
    "        config.way, config.valid_trials,\n",
    "        config.shuffle, config.random_seed,\n",
    "        **kwargs\n",
    "    )\n",
    "else:\n",
    "    data_loader = get_test_loader(\n",
    "        config.data_dir, config.way,\n",
    "        config.test_trials, config.random_seed,\n",
    "        **kwargs\n",
    "    )\n",
    "\n",
    "# sample 3 layer wise hyperparams if first time training\n",
    "if config.is_train and not config.resume:\n",
    "    print(\"[*] Sampling layer hyperparameters.\")\n",
    "\n",
    "    layer_hyperparams = {\n",
    "        'layer_init_lrs': [],\n",
    "        'layer_end_momentums': [],\n",
    "        'layer_l2_regs': []\n",
    "    }\n",
    "    for i in range(6):\n",
    "        # sample\n",
    "        lr = random.uniform(1e-4, 1e-1)\n",
    "        mom = random.uniform(0, 1)\n",
    "        reg = random.uniform(0, 0.1)\n",
    "\n",
    "        # store\n",
    "        layer_hyperparams['layer_init_lrs'].append(lr)\n",
    "        layer_hyperparams['layer_end_momentums'].append(mom)\n",
    "        layer_hyperparams['layer_l2_regs'].append(reg)\n",
    "    try:\n",
    "        save_config(config, layer_hyperparams, override=True)\n",
    "    except ValueError:\n",
    "        print(\n",
    "            \"[!] Samples already exist. Either change the model number,\",\n",
    "            \"or delete the json file and rerun.\",\n",
    "            sep=' '\n",
    "        )\n",
    "        raise\n",
    "# else load it from config file\n",
    "else:\n",
    "    try:\n",
    "        layer_hyperparams = load_config(config)\n",
    "    except FileNotFoundError:\n",
    "        print(\"[!] No previously saved config. Set resume to False.\")\n",
    "        raise"
   ]
  },
  {
   "cell_type": "markdown",
   "metadata": {},
   "source": [
    "# Test"
   ]
  },
  {
   "cell_type": "code",
   "execution_count": 5,
   "metadata": {},
   "outputs": [
    {
     "name": "stderr",
     "output_type": "stream",
     "text": [
      "../../02_training/siamese_networks\\model.py:155: UserWarning: nn.init.normal is now deprecated in favor of nn.init.normal_.\n",
      "  nn.init.normal(m.weight, 0, 1e-2)\n",
      "../../02_training/siamese_networks\\model.py:156: UserWarning: nn.init.normal is now deprecated in favor of nn.init.normal_.\n",
      "  nn.init.normal(m.bias, 0.5, 1e-2)\n",
      "../../02_training/siamese_networks\\model.py:158: UserWarning: nn.init.normal is now deprecated in favor of nn.init.normal_.\n",
      "  nn.init.normal(m.weight, 0, 2e-1)\n",
      "../../02_training/siamese_networks\\model.py:159: UserWarning: nn.init.normal is now deprecated in favor of nn.init.normal_.\n",
      "  nn.init.normal(m.bias, 0, 1e-2)\n"
     ]
    },
    {
     "name": "stdout",
     "output_type": "stream",
     "text": [
      "[*] Number of model parameters: 1,256,945\n",
      "[*] Loading model from ../../02_training/siamese_networks/ckpt/exp_4\n",
      "[*] Loaded best_model_ckpt.tar checkpoint @ epoch 51 with best valid acc of 89.062\n"
     ]
    },
    {
     "name": "stderr",
     "output_type": "stream",
     "text": [
      "../../02_training/siamese_networks\\trainer.py:290: UserWarning: volatile was removed and now has no effect. Use `with torch.no_grad():` instead.\n",
      "  x1, x2 = Variable(x1, volatile=True), Variable(x2, volatile=True)\n",
      "C:\\Users\\bruno.silva\\AppData\\Local\\Continuum\\anaconda3\\envs\\pytorch\\lib\\site-packages\\torch\\nn\\functional.py:1639: UserWarning: nn.functional.sigmoid is deprecated. Use torch.sigmoid instead.\n",
      "  warnings.warn(\"nn.functional.sigmoid is deprecated. Use torch.sigmoid instead.\")\n"
     ]
    },
    {
     "name": "stdout",
     "output_type": "stream",
     "text": [
      "[*] Test Acc: 342/400 (85.50%)\n"
     ]
    }
   ],
   "source": [
    "trainer = Trainer(config, data_loader, layer_hyperparams)\n",
    "\n",
    "trainer.test()"
   ]
  },
  {
   "cell_type": "markdown",
   "metadata": {},
   "source": [
    "# Model summary"
   ]
  },
  {
   "cell_type": "markdown",
   "metadata": {},
   "source": [
    "The output below computes the number of parameters of some layers twice.\n",
    "\n",
    "The actual size is:\n",
    "    2,512,801 - 1,616 - 25,120 - 16,416 - 32,832 - 1,180,160 = 1,256,657"
   ]
  },
  {
   "cell_type": "code",
   "execution_count": 5,
   "metadata": {},
   "outputs": [
    {
     "name": "stdout",
     "output_type": "stream",
     "text": [
      "----------------------------------------------------------------\n",
      "        Layer (type)               Output Shape         Param #\n",
      "================================================================\n",
      "            Conv2d-1           [-1, 16, 96, 96]           1,616\n",
      "       BatchNorm2d-2           [-1, 16, 96, 96]              32\n",
      "            Conv2d-3           [-1, 32, 42, 42]          25,120\n",
      "       BatchNorm2d-4           [-1, 32, 42, 42]              64\n",
      "            Conv2d-5           [-1, 32, 18, 18]          16,416\n",
      "       BatchNorm2d-6           [-1, 32, 18, 18]              64\n",
      "            Conv2d-7             [-1, 64, 6, 6]          32,832\n",
      "       BatchNorm2d-8             [-1, 64, 6, 6]             128\n",
      "            Linear-9                  [-1, 512]       1,180,160\n",
      "           Conv2d-10           [-1, 16, 96, 96]           1,616\n",
      "      BatchNorm2d-11           [-1, 16, 96, 96]              32\n",
      "           Conv2d-12           [-1, 32, 42, 42]          25,120\n",
      "      BatchNorm2d-13           [-1, 32, 42, 42]              64\n",
      "           Conv2d-14           [-1, 32, 18, 18]          16,416\n",
      "      BatchNorm2d-15           [-1, 32, 18, 18]              64\n",
      "           Conv2d-16             [-1, 64, 6, 6]          32,832\n",
      "      BatchNorm2d-17             [-1, 64, 6, 6]             128\n",
      "           Linear-18                  [-1, 512]       1,180,160\n",
      "           Linear-19                    [-1, 1]             513\n",
      "================================================================\n",
      "Total params: 2,513,377\n",
      "Trainable params: 2,513,377\n",
      "Non-trainable params: 0\n",
      "----------------------------------------------------------------\n",
      "Input size (MB): 463.68\n",
      "Forward/backward pass size (MB): 6.62\n",
      "Params size (MB): 9.59\n",
      "Estimated Total Size (MB): 479.88\n",
      "----------------------------------------------------------------\n"
     ]
    }
   ],
   "source": [
    "summary(trainer.model, input_size=[(1, 105, 105), (1, 105, 105)])"
   ]
  },
  {
   "cell_type": "markdown",
   "metadata": {},
   "source": [
    "True summmary:\n",
    "<pre>\n",
    "----------------------------------------------------------------<br>\n",
    "        Layer (type)               Output Shape         Param #<br>\n",
    "================================================================<br>\n",
    "            Conv2d-1           [-1, 16, 96, 96]           1,616<br>\n",
    "            BatchNorm2d-2      [-1, 16, 96, 96]              32<br>\n",
    "            Conv2d-3           [-1, 32, 42, 42]          25,120<br>\n",
    "            BatchNorm2d-4      [-1, 32, 42, 42]              64<br>\n",
    "            Conv2d-5           [-1, 32, 18, 18]          16,416<br>\n",
    "            BatchNorm2d6       [-1, 32, 42, 42]              64<br>\n",
    "            Conv2d-7             [-1, 64, 6, 6]          32,832<br>\n",
    "            BatchNorm2d-8        [-1, 64, 6, 6]             128<br>\n",
    "            Linear-9                  [-1, 512]       1,180,160<br>\n",
    "            Linear-10                   [-1, 1]             513<br>\n",
    "================================================================<br>\n",
    "Total params: 1,256,945<br>\n",
    "Trainable params: 1,256,945<br>\n",
    "Non-trainable params: 0<br>\n",
    "----------------------------------------------------------------<br>\n",
    "</pre>"
   ]
  },
  {
   "cell_type": "markdown",
   "metadata": {},
   "source": [
    "# Plot loss"
   ]
  },
  {
   "cell_type": "code",
   "execution_count": 6,
   "metadata": {},
   "outputs": [
    {
     "data": {
      "image/png": "[encoded data removed]",
      "text/plain": [
       "<Figure size 720x432 with 1 Axes>"
      ]
     },
     "metadata": {
      "needs_background": "light"
     },
     "output_type": "display_data"
    }
   ],
   "source": [
    "from plotting import plot_train_loss\n",
    "\n",
    "plot_train_loss(config, 100)"
   ]
  },
  {
   "cell_type": "code",
   "execution_count": null,
   "metadata": {},
   "outputs": [],
   "source": []
  }
 ],
 "metadata": {
  "kernelspec": {
   "display_name": "Python 3",
   "language": "python",
   "name": "python3"
  },
  "language_info": {
   "codemirror_mode": {
    "name": "ipython",
    "version": 3
   },
   "file_extension": ".py",
   "mimetype": "text/x-python",
   "name": "python",
   "nbconvert_exporter": "python",
   "pygments_lexer": "ipython3",
   "version": "3.8.5"
  }
 },
 "nbformat": 4,
 "nbformat_minor": 4
}
